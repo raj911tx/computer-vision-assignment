{
  "nbformat": 4,
  "nbformat_minor": 0,
  "metadata": {
    "colab": {
      "name": "Computer_Vision_Assignment_Task1_(2).ipynb",
      "provenance": [],
      "collapsed_sections": []
    },
    "kernelspec": {
      "name": "python3",
      "display_name": "Python 3"
    },
    "accelerator": "GPU"
  },
  "cells": [
    {
      "cell_type": "markdown",
      "metadata": {
        "id": "yXk86IXcBsk9"
      },
      "source": [
        "***TEXT CLASSIFICATION***\r\n",
        "\r\n",
        "---\r\n",
        "Rajarshi Karmakar\r\n",
        "\r\n",
        "\r\n"
      ]
    },
    {
      "cell_type": "markdown",
      "metadata": {
        "id": "bcKr0hzrAfed"
      },
      "source": [
        "First we are cloning the github repo using this command"
      ]
    },
    {
      "cell_type": "code",
      "metadata": {
        "colab": {
          "base_uri": "https://localhost:8080/"
        },
        "id": "3G6hFsyD5yeK",
        "outputId": "c1c8c643-c0c5-4457-eeb8-51926e3226c5"
      },
      "source": [
        "!git clone https://github.com/eshwarprasadS/CVAssignmentDataset.git"
      ],
      "execution_count": 1,
      "outputs": [
        {
          "output_type": "stream",
          "text": [
            "Cloning into 'CVAssignmentDataset'...\n",
            "remote: Enumerating objects: 11, done.\u001b[K\n",
            "remote: Counting objects: 100% (11/11), done.\u001b[K\n",
            "remote: Compressing objects: 100% (11/11), done.\u001b[K\n",
            "remote: Total 11 (delta 2), reused 0 (delta 0), pack-reused 0\u001b[K\n",
            "Unpacking objects: 100% (11/11), done.\n"
          ],
          "name": "stdout"
        }
      ]
    },
    {
      "cell_type": "code",
      "metadata": {
        "colab": {
          "base_uri": "https://localhost:8080/"
        },
        "id": "tAF4hLpk85Q_",
        "outputId": "939e4ece-0cb8-458d-def0-25456f366d07"
      },
      "source": [
        "%cd CVAssignmentDataset"
      ],
      "execution_count": 2,
      "outputs": [
        {
          "output_type": "stream",
          "text": [
            "/content/CVAssignmentDataset\n"
          ],
          "name": "stdout"
        }
      ]
    },
    {
      "cell_type": "markdown",
      "metadata": {
        "id": "6bvAsB0hAoV8"
      },
      "source": [
        "Using pandas we are reading the dataset file"
      ]
    },
    {
      "cell_type": "code",
      "metadata": {
        "id": "yMexIIOs86Uk"
      },
      "source": [
        "import pandas as pd\r\n",
        "df=pd.read_csv('CVAssignmentDataset.csv')"
      ],
      "execution_count": 3,
      "outputs": []
    },
    {
      "cell_type": "markdown",
      "metadata": {
        "id": "aLAzL4MnCGiJ"
      },
      "source": [
        "using .head() method we are printing first 5 data from the dataframe"
      ]
    },
    {
      "cell_type": "code",
      "metadata": {
        "colab": {
          "base_uri": "https://localhost:8080/",
          "height": 195
        },
        "id": "xftgQk7G9hvf",
        "outputId": "60ec1e85-96c1-4591-cbf1-d4ca60558043"
      },
      "source": [
        "df.head()"
      ],
      "execution_count": 4,
      "outputs": [
        {
          "output_type": "execute_result",
          "data": {
            "text/html": [
              "<div>\n",
              "<style scoped>\n",
              "    .dataframe tbody tr th:only-of-type {\n",
              "        vertical-align: middle;\n",
              "    }\n",
              "\n",
              "    .dataframe tbody tr th {\n",
              "        vertical-align: top;\n",
              "    }\n",
              "\n",
              "    .dataframe thead th {\n",
              "        text-align: right;\n",
              "    }\n",
              "</style>\n",
              "<table border=\"1\" class=\"dataframe\">\n",
              "  <thead>\n",
              "    <tr style=\"text-align: right;\">\n",
              "      <th></th>\n",
              "      <th>Class</th>\n",
              "      <th>Text</th>\n",
              "    </tr>\n",
              "  </thead>\n",
              "  <tbody>\n",
              "    <tr>\n",
              "      <th>0</th>\n",
              "      <td>1</td>\n",
              "      <td>Today, Senate Dems vote to #SaveTheInternet. P...</td>\n",
              "    </tr>\n",
              "    <tr>\n",
              "      <th>1</th>\n",
              "      <td>1</td>\n",
              "      <td>RT @WinterHavenSun: Winter Haven resident / Al...</td>\n",
              "    </tr>\n",
              "    <tr>\n",
              "      <th>2</th>\n",
              "      <td>1</td>\n",
              "      <td>RT @NBCLatino: .@RepDarrenSoto noted that Hurr...</td>\n",
              "    </tr>\n",
              "    <tr>\n",
              "      <th>3</th>\n",
              "      <td>1</td>\n",
              "      <td>RT @NALCABPolicy: Meeting with @RepDarrenSoto ...</td>\n",
              "    </tr>\n",
              "    <tr>\n",
              "      <th>4</th>\n",
              "      <td>1</td>\n",
              "      <td>RT @Vegalteno: Hurricane season starts on June...</td>\n",
              "    </tr>\n",
              "  </tbody>\n",
              "</table>\n",
              "</div>"
            ],
            "text/plain": [
              "  Class                                               Text\n",
              "0     1  Today, Senate Dems vote to #SaveTheInternet. P...\n",
              "1     1  RT @WinterHavenSun: Winter Haven resident / Al...\n",
              "2     1  RT @NBCLatino: .@RepDarrenSoto noted that Hurr...\n",
              "3     1  RT @NALCABPolicy: Meeting with @RepDarrenSoto ...\n",
              "4     1  RT @Vegalteno: Hurricane season starts on June..."
            ]
          },
          "metadata": {
            "tags": []
          },
          "execution_count": 4
        }
      ]
    },
    {
      "cell_type": "markdown",
      "metadata": {
        "id": "9iiKwKCkCeBh"
      },
      "source": [
        "we have a mislabeled class in the dataset which we are removing by this command"
      ]
    },
    {
      "cell_type": "code",
      "metadata": {
        "id": "RyvJYQ_1GY8A"
      },
      "source": [
        "df=df[df['Class']!='https://t.co/sbSljdw1Zw']"
      ],
      "execution_count": 5,
      "outputs": []
    },
    {
      "cell_type": "markdown",
      "metadata": {
        "id": "bsR75IZCCo70"
      },
      "source": [
        "Using Seabord library we are visualizing how much of each class exists in the dataset"
      ]
    },
    {
      "cell_type": "code",
      "metadata": {
        "colab": {
          "base_uri": "https://localhost:8080/",
          "height": 335
        },
        "id": "cudTI5atE6SD",
        "outputId": "7cb2249e-d5aa-4c14-d82a-2d6f3e83bfbd"
      },
      "source": [
        "import seaborn as sns\r\n",
        "x=df.Class.value_counts()\r\n",
        "sns.barplot(x.index,x)"
      ],
      "execution_count": 6,
      "outputs": [
        {
          "output_type": "stream",
          "text": [
            "/usr/local/lib/python3.6/dist-packages/seaborn/_decorators.py:43: FutureWarning: Pass the following variables as keyword args: x, y. From version 0.12, the only valid positional argument will be `data`, and passing other arguments without an explicit keyword will result in an error or misinterpretation.\n",
            "  FutureWarning\n"
          ],
          "name": "stderr"
        },
        {
          "output_type": "execute_result",
          "data": {
            "text/plain": [
              "<matplotlib.axes._subplots.AxesSubplot at 0x7fe66f85d588>"
            ]
          },
          "metadata": {
            "tags": []
          },
          "execution_count": 6
        },
        {
          "output_type": "display_data",
          "data": {
            "image/png": "[encoded data removed]",
            "text/plain": [
              "<Figure size 432x288 with 1 Axes>"
            ]
          },
          "metadata": {
            "tags": [],
            "needs_background": "light"
          }
        }
      ]
    },
    {
      "cell_type": "code",
      "metadata": {
        "colab": {
          "base_uri": "https://localhost:8080/",
          "height": 402
        },
        "id": "z9IiYmYaJ4gQ",
        "outputId": "1368b7c9-d3a4-4edc-a697-979548a33ecb"
      },
      "source": [
        "df[df['Class']=='0']"
      ],
      "execution_count": 7,
      "outputs": [
        {
          "output_type": "execute_result",
          "data": {
            "text/html": [
              "<div>\n",
              "<style scoped>\n",
              "    .dataframe tbody tr th:only-of-type {\n",
              "        vertical-align: middle;\n",
              "    }\n",
              "\n",
              "    .dataframe tbody tr th {\n",
              "        vertical-align: top;\n",
              "    }\n",
              "\n",
              "    .dataframe thead th {\n",
              "        text-align: right;\n",
              "    }\n",
              "</style>\n",
              "<table border=\"1\" class=\"dataframe\">\n",
              "  <thead>\n",
              "    <tr style=\"text-align: right;\">\n",
              "      <th></th>\n",
              "      <th>Class</th>\n",
              "      <th>Text</th>\n",
              "    </tr>\n",
              "  </thead>\n",
              "  <tbody>\n",
              "    <tr>\n",
              "      <th>42069</th>\n",
              "      <td>0</td>\n",
              "      <td>It's #WastefulWednesday! \\n\\nToday, I introduc...</td>\n",
              "    </tr>\n",
              "    <tr>\n",
              "      <th>42070</th>\n",
              "      <td>0</td>\n",
              "      <td>Today we honored all the heroic men &amp;amp; wome...</td>\n",
              "    </tr>\n",
              "    <tr>\n",
              "      <th>42071</th>\n",
              "      <td>0</td>\n",
              "      <td>RT @CongressmanRaja: Last week, @RepRalphNorma...</td>\n",
              "    </tr>\n",
              "    <tr>\n",
              "      <th>42072</th>\n",
              "      <td>0</td>\n",
              "      <td>RT @TegaCayPD: Chief Parker was thankful to re...</td>\n",
              "    </tr>\n",
              "    <tr>\n",
              "      <th>42073</th>\n",
              "      <td>0</td>\n",
              "      <td>I visited the SC Highway Patrol to bring them ...</td>\n",
              "    </tr>\n",
              "    <tr>\n",
              "      <th>...</th>\n",
              "      <td>...</td>\n",
              "      <td>...</td>\n",
              "    </tr>\n",
              "    <tr>\n",
              "      <th>86456</th>\n",
              "      <td>0</td>\n",
              "      <td>Check out my op-ed on need for End Executive O...</td>\n",
              "    </tr>\n",
              "    <tr>\n",
              "      <th>86457</th>\n",
              "      <td>0</td>\n",
              "      <td>Yesterday, Betty &amp;amp; I had a great time lear...</td>\n",
              "    </tr>\n",
              "    <tr>\n",
              "      <th>86458</th>\n",
              "      <td>0</td>\n",
              "      <td>We are forever grateful for the service and sa...</td>\n",
              "    </tr>\n",
              "    <tr>\n",
              "      <th>86459</th>\n",
              "      <td>0</td>\n",
              "      <td>Happy first day of school @CobbSchools! #CobbB...</td>\n",
              "    </tr>\n",
              "    <tr>\n",
              "      <th>86460</th>\n",
              "      <td>0</td>\n",
              "      <td>#Zika fears realized in Florida. House GOP act...</td>\n",
              "    </tr>\n",
              "  </tbody>\n",
              "</table>\n",
              "<p>44392 rows × 2 columns</p>\n",
              "</div>"
            ],
            "text/plain": [
              "      Class                                               Text\n",
              "42069     0  It's #WastefulWednesday! \\n\\nToday, I introduc...\n",
              "42070     0  Today we honored all the heroic men &amp; wome...\n",
              "42071     0  RT @CongressmanRaja: Last week, @RepRalphNorma...\n",
              "42072     0  RT @TegaCayPD: Chief Parker was thankful to re...\n",
              "42073     0  I visited the SC Highway Patrol to bring them ...\n",
              "...     ...                                                ...\n",
              "86456     0  Check out my op-ed on need for End Executive O...\n",
              "86457     0  Yesterday, Betty &amp; I had a great time lear...\n",
              "86458     0  We are forever grateful for the service and sa...\n",
              "86459     0  Happy first day of school @CobbSchools! #CobbB...\n",
              "86460     0  #Zika fears realized in Florida. House GOP act...\n",
              "\n",
              "[44392 rows x 2 columns]"
            ]
          },
          "metadata": {
            "tags": []
          },
          "execution_count": 7
        }
      ]
    },
    {
      "cell_type": "markdown",
      "metadata": {
        "id": "syx7ZBQwC8me"
      },
      "source": [
        "now we are visualizing how many characters are there for each class"
      ]
    },
    {
      "cell_type": "code",
      "metadata": {
        "colab": {
          "base_uri": "https://localhost:8080/",
          "height": 294
        },
        "id": "MfJR2RZ1Hjgw",
        "outputId": "1160da72-c8a8-42b1-e9a1-f73774d272eb"
      },
      "source": [
        "import matplotlib.pyplot as plt\r\n",
        "fig,(axis1,axis2)=plt.subplots(1,2)\r\n",
        "char_len=df[df['Class']=='0']['Text'].str.len()\r\n",
        "axis1.hist(char_len,color='blue')\r\n",
        "axis1.set_title('class 0')\r\n",
        "char_len=df[df['Class']=='1']['Text'].str.len()\r\n",
        "axis2.hist(char_len,color='pink')\r\n",
        "axis2.set_title('class 1')\r\n",
        "fig.suptitle('characters in text')\r\n",
        "plt.show()\r\n"
      ],
      "execution_count": 8,
      "outputs": [
        {
          "output_type": "display_data",
          "data": {
            "image/png": "[encoded data removed]",
            "text/plain": [
              "<Figure size 432x288 with 2 Axes>"
            ]
          },
          "metadata": {
            "tags": [],
            "needs_background": "light"
          }
        }
      ]
    },
    {
      "cell_type": "code",
      "metadata": {
        "colab": {
          "base_uri": "https://localhost:8080/",
          "height": 294
        },
        "id": "_hH5uezQLLLb",
        "outputId": "39bd0b82-f961-45ee-dea1-753caddd407f"
      },
      "source": [
        "fig,(axis1,axis2)=plt.subplots(1,2)\r\n",
        "char_len=df[df['Class']=='0']['Text'].str.split().map(lambda x:len(x))\r\n",
        "axis1.hist(char_len,color='green')\r\n",
        "axis1.set_title('class 0')\r\n",
        "char_len=df[df['Class']=='1']['Text'].str.split().map(lambda x:len(x))\r\n",
        "axis2.hist(char_len,color='red')\r\n",
        "axis2.set_title('class 1')\r\n",
        "fig.suptitle('words in text')\r\n",
        "plt.show()"
      ],
      "execution_count": 9,
      "outputs": [
        {
          "output_type": "display_data",
          "data": {
            "image/png": "[encoded data removed]",
            "text/plain": [
              "<Figure size 432x288 with 2 Axes>"
            ]
          },
          "metadata": {
            "tags": [],
            "needs_background": "light"
          }
        }
      ]
    },
    {
      "cell_type": "code",
      "metadata": {
        "id": "lhvRwScxNKsI"
      },
      "source": [
        "df['Class']=df['Class'].astype(int)"
      ],
      "execution_count": 10,
      "outputs": []
    },
    {
      "cell_type": "code",
      "metadata": {
        "id": "lZxvaqr-Mwe9"
      },
      "source": [
        "def create_corpus(target):\r\n",
        "    corpus=[]\r\n",
        "    \r\n",
        "    for x in df[df['Class']==target]['Text'].str.split():\r\n",
        "        for i in x:\r\n",
        "            corpus.append(i)\r\n",
        "    return corpus"
      ],
      "execution_count": 11,
      "outputs": []
    },
    {
      "cell_type": "code",
      "metadata": {
        "id": "D1991sgoNBgb"
      },
      "source": [
        "from nltk.util import ngrams\r\n",
        "from sklearn.feature_extraction.text import CountVectorizer\r\n"
      ],
      "execution_count": 12,
      "outputs": []
    },
    {
      "cell_type": "markdown",
      "metadata": {
        "id": "KbyUU-w2DZfJ"
      },
      "source": [
        "Now we are analysing most common bygrams in the data"
      ]
    },
    {
      "cell_type": "code",
      "metadata": {
        "colab": {
          "base_uri": "https://localhost:8080/",
          "height": 337
        },
        "id": "lBvAVPMZLxQf",
        "outputId": "ec357d46-c923-4530-f173-d8462679ead4"
      },
      "source": [
        "def get_top_bigrams(corpus, n=None):\r\n",
        "    vec = CountVectorizer(ngram_range=(2, 2)).fit(corpus)\r\n",
        "    bag_of_words = vec.transform(corpus)\r\n",
        "    sum_words = bag_of_words.sum(axis=0) \r\n",
        "    words_freq = [(word, sum_words[0, idx]) for word, idx in vec.vocabulary_.items()]\r\n",
        "    words_freq =sorted(words_freq, key = lambda x: x[1], reverse=True)\r\n",
        "    return words_freq[:n]\r\n",
        "plt.figure(figsize=(10,5))\r\n",
        "top_bigrams=get_top_bigrams(df['Text'])[:10]\r\n",
        "x,y=map(list,zip(*top_bigrams))\r\n",
        "sns.barplot(x=y,y=x)"
      ],
      "execution_count": 13,
      "outputs": [
        {
          "output_type": "execute_result",
          "data": {
            "text/plain": [
              "<matplotlib.axes._subplots.AxesSubplot at 0x7fe667cf0240>"
            ]
          },
          "metadata": {
            "tags": []
          },
          "execution_count": 13
        },
        {
          "output_type": "display_data",
          "data": {
            "image/png": "[encoded data removed]",
            "text/plain": [
              "<Figure size 720x360 with 1 Axes>"
            ]
          },
          "metadata": {
            "tags": [],
            "needs_background": "light"
          }
        }
      ]
    },
    {
      "cell_type": "markdown",
      "metadata": {
        "id": "V6mgTW9XDm5U"
      },
      "source": [
        "We can see the dataset contents URLs.We have to remove these before traing the data"
      ]
    },
    {
      "cell_type": "code",
      "metadata": {
        "id": "FErHvo9DPPk-"
      },
      "source": [
        "import re\r\n",
        "def remove_URL(text):\r\n",
        "    url = re.compile(r'https?://\\S+|www\\.\\S+')\r\n",
        "    return url.sub(r'',text)\r\n",
        "df['Text']=df['Text'].apply(lambda x : remove_URL(x))"
      ],
      "execution_count": 14,
      "outputs": []
    },
    {
      "cell_type": "markdown",
      "metadata": {
        "id": "PQULhPMiD6cO"
      },
      "source": [
        "We are removing any present emojis and puntaution from the dataset"
      ]
    },
    {
      "cell_type": "code",
      "metadata": {
        "id": "sHyuuI0VPgET"
      },
      "source": [
        "def remove_emoji(text):\r\n",
        "    emoji_pattern = re.compile(\"[\"\r\n",
        "                           u\"\\U0001F600-\\U0001F64F\"  # emoticons\r\n",
        "                           u\"\\U0001F300-\\U0001F5FF\"  # symbols & pictographs\r\n",
        "                           u\"\\U0001F680-\\U0001F6FF\"  # transport & map symbols\r\n",
        "                           u\"\\U0001F1E0-\\U0001F1FF\"  # flags (iOS)\r\n",
        "                           u\"\\U00002702-\\U000027B0\"\r\n",
        "                           u\"\\U000024C2-\\U0001F251\"\r\n",
        "                           \"]+\", flags=re.UNICODE)\r\n",
        "    return emoji_pattern.sub(r'', text)\r\n",
        "df['Text']=df['Text'].apply(lambda x: remove_emoji(x))    "
      ],
      "execution_count": 15,
      "outputs": []
    },
    {
      "cell_type": "code",
      "metadata": {
        "id": "FoOjI0xAPp6k"
      },
      "source": [
        "import string\r\n",
        "def remove_punct(text):\r\n",
        "    table=str.maketrans('','',string.punctuation)\r\n",
        "    return text.translate(table)\r\n",
        "df['Text']=df['Text'].apply(lambda x : remove_punct(x))"
      ],
      "execution_count": 16,
      "outputs": []
    },
    {
      "cell_type": "markdown",
      "metadata": {
        "id": "WY6mwfgbEnd3"
      },
      "source": [
        "Now to be able to using machine learning we have to transform the text data to set of numbers thats why we are using Tokenizer"
      ]
    },
    {
      "cell_type": "code",
      "metadata": {
        "id": "N2LC4yOZa9MY"
      },
      "source": [
        "vocab_size=10000"
      ],
      "execution_count": 75,
      "outputs": []
    },
    {
      "cell_type": "code",
      "metadata": {
        "id": "53fyGDeDZ2NK"
      },
      "source": [
        "from keras.preprocessing.text import Tokenizer\r\n",
        "from keras.preprocessing.sequence import pad_sequences\r\n",
        "tokenizer=Tokenizer(num_words=vocab_size)\r\n",
        "tokenizer.fit_on_texts(df['Text'])\r\n",
        "max_len=50"
      ],
      "execution_count": 76,
      "outputs": []
    },
    {
      "cell_type": "markdown",
      "metadata": {
        "id": "7DDkGMCBE1EH"
      },
      "source": [
        "Now we are splitting the dataset into training and testing data using sklearn library"
      ]
    },
    {
      "cell_type": "code",
      "metadata": {
        "id": "iQw0HlI93YLq"
      },
      "source": [
        "from sklearn.model_selection import train_test_split\r\n",
        "x_train,x_test,y_train,y_test=train_test_split(df['Text'],df['Class'],test_size=0.2,random_state=1)\r\n",
        "x_train,x_val,y_train,y_val=train_test_split(x_train,y_train,test_size=0.25,random_state=1)"
      ],
      "execution_count": 95,
      "outputs": []
    },
    {
      "cell_type": "code",
      "metadata": {
        "colab": {
          "base_uri": "https://localhost:8080/"
        },
        "id": "rggyeMITcQaO",
        "outputId": "4112278a-2d9f-4641-c0e5-418198dde7c8"
      },
      "source": [
        "print(max_len)"
      ],
      "execution_count": 96,
      "outputs": [
        {
          "output_type": "stream",
          "text": [
            "50\n"
          ],
          "name": "stdout"
        }
      ]
    },
    {
      "cell_type": "code",
      "metadata": {
        "id": "Agg2hVoObprc"
      },
      "source": [
        "x_train_tokens=tokenizer.texts_to_sequences(x_train)\r\n",
        "x_test_tokens=tokenizer.texts_to_sequences(x_test)\r\n",
        "x_val_tokens=tokenizer.texts_to_sequences(x_val)\r\n",
        "\r\n",
        "x_train_pad=pad_sequences(x_train_tokens,maxlen=max_len,padding='post')\r\n",
        "x_test_pad=pad_sequences(x_test_tokens,maxlen=max_len,padding='post')\r\n",
        "x_val_pad=pad_sequences(x_val_tokens,maxlen=max_len,padding='post')"
      ],
      "execution_count": 102,
      "outputs": []
    },
    {
      "cell_type": "markdown",
      "metadata": {
        "id": "X2ZQkeb5E_kf"
      },
      "source": [
        "Now we are ready to build the classification model using several layers"
      ]
    },
    {
      "cell_type": "code",
      "metadata": {
        "id": "GtUdQoEncdLc"
      },
      "source": [
        "from keras.models import Sequential\r\n",
        "from keras.layers import Dense,Embedding,LSTM,Bidirectional,Conv1D,MaxPooling1D,Dropout\r\n",
        "from keras.layers.embeddings import Embedding\r\n",
        "EMBEDDING_DIM=32\r\n",
        "model=Sequential()\r\n",
        "model.add(Embedding(vocab_size,EMBEDDING_DIM,input_length=50))\r\n",
        "model.add(Conv1D(filters=32,kernel_size=2,padding='same'))\r\n",
        "model.add(MaxPooling1D(pool_size=2))\r\n",
        "model.add(Bidirectional(LSTM(256,return_sequences=True)))\r\n",
        "model.add(Dropout(0.5))\r\n",
        "model.add(Bidirectional(LSTM(256)))\r\n",
        "model.add(Dropout(0.3))\r\n",
        "model.add(Dense(1024,activation='relu'))\r\n",
        "model.add(Dropout(0.3))\r\n",
        "model.add(Dense(512,activation='relu'))\r\n",
        "model.add(Dropout(0.5))\r\n",
        "model.add(Dense(1,activation='sigmoid'))\r\n",
        "model.compile(loss='binary_crossentropy',optimizer='adam',metrics=['accuracy'])"
      ],
      "execution_count": 121,
      "outputs": []
    },
    {
      "cell_type": "code",
      "metadata": {
        "colab": {
          "base_uri": "https://localhost:8080/"
        },
        "id": "nMWPKTMwdfJV",
        "outputId": "90d17e0b-3b44-45cb-d2ab-4ac7ba17eb2d"
      },
      "source": [
        "model.summary()"
      ],
      "execution_count": 122,
      "outputs": [
        {
          "output_type": "stream",
          "text": [
            "Model: \"sequential_22\"\n",
            "_________________________________________________________________\n",
            "Layer (type)                 Output Shape              Param #   \n",
            "=================================================================\n",
            "embedding_22 (Embedding)     (None, 50, 32)            320000    \n",
            "_________________________________________________________________\n",
            "conv1d_22 (Conv1D)           (None, 50, 32)            2080      \n",
            "_________________________________________________________________\n",
            "max_pooling1d_22 (MaxPooling (None, 25, 32)            0         \n",
            "_________________________________________________________________\n",
            "bidirectional_44 (Bidirectio (None, 25, 512)           591872    \n",
            "_________________________________________________________________\n",
            "dropout_88 (Dropout)         (None, 25, 512)           0         \n",
            "_________________________________________________________________\n",
            "bidirectional_45 (Bidirectio (None, 512)               1574912   \n",
            "_________________________________________________________________\n",
            "dropout_89 (Dropout)         (None, 512)               0         \n",
            "_________________________________________________________________\n",
            "dense_66 (Dense)             (None, 1024)              525312    \n",
            "_________________________________________________________________\n",
            "dropout_90 (Dropout)         (None, 1024)              0         \n",
            "_________________________________________________________________\n",
            "dense_67 (Dense)             (None, 512)               524800    \n",
            "_________________________________________________________________\n",
            "dropout_91 (Dropout)         (None, 512)               0         \n",
            "_________________________________________________________________\n",
            "dense_68 (Dense)             (None, 1)                 513       \n",
            "=================================================================\n",
            "Total params: 3,539,489\n",
            "Trainable params: 3,539,489\n",
            "Non-trainable params: 0\n",
            "_________________________________________________________________\n"
          ],
          "name": "stdout"
        }
      ]
    },
    {
      "cell_type": "markdown",
      "metadata": {
        "id": "iiU2cbJeFNYI"
      },
      "source": [
        "our model contains 3.5M parameters which takes longer for training without GPU"
      ]
    },
    {
      "cell_type": "code",
      "metadata": {
        "colab": {
          "base_uri": "https://localhost:8080/",
          "height": 1000
        },
        "id": "oNpY-w_Nf5Ra",
        "outputId": "218a3911-88e4-4362-9823-3309556ee902"
      },
      "source": [
        "from tensorflow.keras.utils import plot_model\r\n",
        "plot_model(model, to_file='model_plot4a.png', show_shapes=True, show_layer_names=True)"
      ],
      "execution_count": 123,
      "outputs": [
        {
          "output_type": "execute_result",
          "data": {
            "image/png": "[encoded data removed]",
            "text/plain": [
              "<IPython.core.display.Image object>"
            ]
          },
          "metadata": {
            "tags": []
          },
          "execution_count": 123
        }
      ]
    },
    {
      "cell_type": "code",
      "metadata": {
        "colab": {
          "base_uri": "https://localhost:8080/"
        },
        "id": "VspsPIVNgref",
        "outputId": "864d09e0-d363-4761-e602-5301e49cea56"
      },
      "source": [
        "history=model.fit(x_train_pad,y_train,batch_size=128,epochs=25,validation_data=(x_val_pad,y_val),verbose=2)"
      ],
      "execution_count": 124,
      "outputs": [
        {
          "output_type": "stream",
          "text": [
            "Epoch 1/25\n",
            "406/406 - 17s - loss: 0.5346 - accuracy: 0.7058 - val_loss: 0.4551 - val_accuracy: 0.7704\n",
            "Epoch 2/25\n",
            "406/406 - 11s - loss: 0.3834 - accuracy: 0.8152 - val_loss: 0.4484 - val_accuracy: 0.7768\n",
            "Epoch 3/25\n",
            "406/406 - 11s - loss: 0.3015 - accuracy: 0.8610 - val_loss: 0.4898 - val_accuracy: 0.7714\n",
            "Epoch 4/25\n",
            "406/406 - 11s - loss: 0.2076 - accuracy: 0.9097 - val_loss: 0.5835 - val_accuracy: 0.7608\n",
            "Epoch 5/25\n",
            "406/406 - 11s - loss: 0.1335 - accuracy: 0.9456 - val_loss: 0.7465 - val_accuracy: 0.7569\n",
            "Epoch 6/25\n",
            "406/406 - 11s - loss: 0.0867 - accuracy: 0.9659 - val_loss: 0.9728 - val_accuracy: 0.7581\n",
            "Epoch 7/25\n",
            "406/406 - 11s - loss: 0.0639 - accuracy: 0.9757 - val_loss: 1.0704 - val_accuracy: 0.7536\n",
            "Epoch 8/25\n",
            "406/406 - 11s - loss: 0.0524 - accuracy: 0.9799 - val_loss: 1.2992 - val_accuracy: 0.7524\n",
            "Epoch 9/25\n",
            "406/406 - 11s - loss: 0.0452 - accuracy: 0.9826 - val_loss: 1.2640 - val_accuracy: 0.7565\n",
            "Epoch 10/25\n",
            "406/406 - 11s - loss: 0.0391 - accuracy: 0.9852 - val_loss: 1.4352 - val_accuracy: 0.7542\n",
            "Epoch 11/25\n",
            "406/406 - 11s - loss: 0.0360 - accuracy: 0.9858 - val_loss: 1.3873 - val_accuracy: 0.7516\n",
            "Epoch 12/25\n",
            "406/406 - 11s - loss: 0.0323 - accuracy: 0.9873 - val_loss: 1.6031 - val_accuracy: 0.7516\n",
            "Epoch 13/25\n",
            "406/406 - 11s - loss: 0.0283 - accuracy: 0.9885 - val_loss: 1.4795 - val_accuracy: 0.7489\n",
            "Epoch 14/25\n",
            "406/406 - 11s - loss: 0.0269 - accuracy: 0.9892 - val_loss: 1.9560 - val_accuracy: 0.7506\n",
            "Epoch 15/25\n",
            "406/406 - 11s - loss: 0.0252 - accuracy: 0.9891 - val_loss: 1.7809 - val_accuracy: 0.7495\n",
            "Epoch 16/25\n",
            "406/406 - 11s - loss: 0.0283 - accuracy: 0.9881 - val_loss: 1.4353 - val_accuracy: 0.7498\n",
            "Epoch 17/25\n",
            "406/406 - 11s - loss: 0.0265 - accuracy: 0.9891 - val_loss: 1.6950 - val_accuracy: 0.7517\n",
            "Epoch 18/25\n",
            "406/406 - 11s - loss: 0.0219 - accuracy: 0.9906 - val_loss: 1.8585 - val_accuracy: 0.7500\n",
            "Epoch 19/25\n",
            "406/406 - 11s - loss: 0.0213 - accuracy: 0.9911 - val_loss: 2.0043 - val_accuracy: 0.7519\n",
            "Epoch 20/25\n",
            "406/406 - 11s - loss: 0.0211 - accuracy: 0.9909 - val_loss: 2.0033 - val_accuracy: 0.7487\n",
            "Epoch 21/25\n",
            "406/406 - 11s - loss: 0.0187 - accuracy: 0.9921 - val_loss: 2.3639 - val_accuracy: 0.7472\n",
            "Epoch 22/25\n",
            "406/406 - 11s - loss: 0.0218 - accuracy: 0.9903 - val_loss: 1.7940 - val_accuracy: 0.7482\n",
            "Epoch 23/25\n",
            "406/406 - 11s - loss: 0.0187 - accuracy: 0.9919 - val_loss: 1.9695 - val_accuracy: 0.7524\n",
            "Epoch 24/25\n",
            "406/406 - 11s - loss: 0.0184 - accuracy: 0.9920 - val_loss: 2.2529 - val_accuracy: 0.7481\n",
            "Epoch 25/25\n",
            "406/406 - 11s - loss: 0.0169 - accuracy: 0.9922 - val_loss: 1.9944 - val_accuracy: 0.7501\n"
          ],
          "name": "stdout"
        }
      ]
    },
    {
      "cell_type": "markdown",
      "metadata": {
        "id": "UGqXuw5IFh42"
      },
      "source": [
        "\r\n",
        "we are getting 99% acuuracy by trining this model.Now we can plot accuracy over each epochs."
      ]
    },
    {
      "cell_type": "code",
      "metadata": {
        "id": "o51hpO6wiGFZ"
      },
      "source": [
        "model_loss = pd.DataFrame(history.history)"
      ],
      "execution_count": 125,
      "outputs": []
    },
    {
      "cell_type": "code",
      "metadata": {
        "colab": {
          "base_uri": "https://localhost:8080/",
          "height": 269
        },
        "id": "LMjwOQqjiUhU",
        "outputId": "d1254d05-f208-4277-b697-fb81a491abd1"
      },
      "source": [
        "model_loss[['accuracy','val_accuracy']].plot(ylim=[0.7,1]);"
      ],
      "execution_count": 137,
      "outputs": [
        {
          "output_type": "display_data",
          "data": {
            "image/png": "[encoded data removed]",
            "text/plain": [
              "<Figure size 432x288 with 1 Axes>"
            ]
          },
          "metadata": {
            "tags": [],
            "needs_background": "light"
          }
        }
      ]
    },
    {
      "cell_type": "code",
      "metadata": {
        "id": "NXBp978MlcAS"
      },
      "source": [
        "y_pred=model.predict(x_test_pad)"
      ],
      "execution_count": 138,
      "outputs": []
    },
    {
      "cell_type": "code",
      "metadata": {
        "colab": {
          "base_uri": "https://localhost:8080/"
        },
        "id": "_QULcg81iY-N",
        "outputId": "df968f22-d346-4398-9fdf-f8e65842faf4"
      },
      "source": [
        "from sklearn.metrics import classification_report,confusion_matrix,accuracy_score,matthews_corrcoef\r\n",
        "print(classification_report(y_test,(y_pred>0.5).astype(int)))"
      ],
      "execution_count": 139,
      "outputs": [
        {
          "output_type": "stream",
          "text": [
            "              precision    recall  f1-score   support\n",
            "\n",
            "           0       0.74      0.80      0.77      8824\n",
            "           1       0.77      0.71      0.74      8468\n",
            "\n",
            "    accuracy                           0.76     17292\n",
            "   macro avg       0.76      0.76      0.76     17292\n",
            "weighted avg       0.76      0.76      0.76     17292\n",
            "\n"
          ],
          "name": "stdout"
        }
      ]
    },
    {
      "cell_type": "code",
      "metadata": {
        "colab": {
          "base_uri": "https://localhost:8080/"
        },
        "id": "CmGd-BV9qbr8",
        "outputId": "bc9d725a-3017-4927-ba59-3c15a4eccf84"
      },
      "source": [
        "print(accuracy_score(y_test,(y_pred>0.5).astype(int)))"
      ],
      "execution_count": 140,
      "outputs": [
        {
          "output_type": "stream",
          "text": [
            "0.7560143418922045\n"
          ],
          "name": "stdout"
        }
      ]
    },
    {
      "cell_type": "code",
      "metadata": {
        "colab": {
          "base_uri": "https://localhost:8080/"
        },
        "id": "LpXU-kR_pCQ3",
        "outputId": "8bbeef41-14b9-4dc0-c653-234d3fe5bb87"
      },
      "source": [
        "cm=confusion_matrix(y_test,(y_pred>0.5).astype(int))\r\n",
        "print(cm)"
      ],
      "execution_count": 141,
      "outputs": [
        {
          "output_type": "stream",
          "text": [
            "[[7030 1794]\n",
            " [2425 6043]]\n"
          ],
          "name": "stdout"
        }
      ]
    },
    {
      "cell_type": "code",
      "metadata": {
        "colab": {
          "base_uri": "https://localhost:8080/",
          "height": 316
        },
        "id": "2KLGxOUjsRpH",
        "outputId": "f2525662-e9d0-4b9e-e57e-04ec8be16ae5"
      },
      "source": [
        "import matplotlib.pyplot as plt\r\n",
        "import numpy as np\r\n",
        "plt.clf()\r\n",
        "plt.imshow(cm, interpolation='nearest', cmap=plt.cm.Wistia)\r\n",
        "classNames = ['Class0','Class1']\r\n",
        "plt.title('Confusion Matrix')\r\n",
        "plt.ylabel('True label')\r\n",
        "plt.xlabel('Predicted label')\r\n",
        "tick_marks = np.arange(len(classNames))\r\n",
        "plt.xticks(tick_marks, classNames, rotation=45)\r\n",
        "plt.yticks(tick_marks, classNames)\r\n",
        "s = [['TN','FP'], ['FN', 'TP']]\r\n",
        " \r\n",
        "for i in range(2):\r\n",
        "    for j in range(2):\r\n",
        "        plt.text(j,i, str(s[i][j])+\" = \"+str(cm[i][j]))\r\n",
        "plt.show()"
      ],
      "execution_count": 142,
      "outputs": [
        {
          "output_type": "display_data",
          "data": {
            "image/png": "[encoded data removed]",
            "text/plain": [
              "<Figure size 432x288 with 1 Axes>"
            ]
          },
          "metadata": {
            "tags": [],
            "needs_background": "light"
          }
        }
      ]
    },
    {
      "cell_type": "code",
      "metadata": {
        "colab": {
          "base_uri": "https://localhost:8080/"
        },
        "id": "fk_xuKMbo-Av",
        "outputId": "c4ae40b1-a4fb-4a25-c514-ce7647cc074b"
      },
      "source": [
        "print(matthews_corrcoef(y_test,(y_pred>0.5).astype(int)))"
      ],
      "execution_count": 143,
      "outputs": [
        {
          "output_type": "stream",
          "text": [
            "0.5124587320551841\n"
          ],
          "name": "stdout"
        }
      ]
    },
    {
      "cell_type": "code",
      "metadata": {
        "id": "v9m6h1Uoo9ZZ"
      },
      "source": [
        "model.save('model.h5')"
      ],
      "execution_count": 144,
      "outputs": []
    },
    {
      "cell_type": "markdown",
      "metadata": {
        "id": "7QfqQlCOGKcA"
      },
      "source": [
        "We can use the following code to download the weights of the model.So we can use these pretrained weights for predicting later."
      ]
    },
    {
      "cell_type": "code",
      "metadata": {
        "colab": {
          "base_uri": "https://localhost:8080/",
          "height": 17
        },
        "id": "67ltMOfCo4ny",
        "outputId": "8084ffea-a2aa-4d74-f4f9-6f7cb2ebc374"
      },
      "source": [
        "from google.colab import files\r\n",
        "files.download('model.h5')"
      ],
      "execution_count": 145,
      "outputs": [
        {
          "output_type": "display_data",
          "data": {
            "application/javascript": [
              "\n",
              "    async function download(id, filename, size) {\n",
              "      if (!google.colab.kernel.accessAllowed) {\n",
              "        return;\n",
              "      }\n",
              "      const div = document.createElement('div');\n",
              "      const label = document.createElement('label');\n",
              "      label.textContent = `Downloading \"${filename}\": `;\n",
              "      div.appendChild(label);\n",
              "      const progress = document.createElement('progress');\n",
              "      progress.max = size;\n",
              "      div.appendChild(progress);\n",
              "      document.body.appendChild(div);\n",
              "\n",
              "      const buffers = [];\n",
              "      let downloaded = 0;\n",
              "\n",
              "      const channel = await google.colab.kernel.comms.open(id);\n",
              "      // Send a message to notify the kernel that we're ready.\n",
              "      channel.send({})\n",
              "\n",
              "      for await (const message of channel.messages) {\n",
              "        // Send a message to notify the kernel that we're ready.\n",
              "        channel.send({})\n",
              "        if (message.buffers) {\n",
              "          for (const buffer of message.buffers) {\n",
              "            buffers.push(buffer);\n",
              "            downloaded += buffer.byteLength;\n",
              "            progress.value = downloaded;\n",
              "          }\n",
              "        }\n",
              "      }\n",
              "      const blob = new Blob(buffers, {type: 'application/binary'});\n",
              "      const a = document.createElement('a');\n",
              "      a.href = window.URL.createObjectURL(blob);\n",
              "      a.download = filename;\n",
              "      div.appendChild(a);\n",
              "      a.click();\n",
              "      div.remove();\n",
              "    }\n",
              "  "
            ],
            "text/plain": [
              "<IPython.core.display.Javascript object>"
            ]
          },
          "metadata": {
            "tags": []
          }
        },
        {
          "output_type": "display_data",
          "data": {
            "application/javascript": [
              "download(\"download_b808da8c-dfce-4794-8c58-7d83fa342488\", \"model.h5\", 42577552)"
            ],
            "text/plain": [
              "<IPython.core.display.Javascript object>"
            ]
          },
          "metadata": {
            "tags": []
          }
        }
      ]
    },
    {
      "cell_type": "code",
      "metadata": {
        "colab": {
          "base_uri": "https://localhost:8080/",
          "height": 17
        },
        "id": "vhqrcMhApZqE",
        "outputId": "b8294407-5ac0-4f53-a107-e0c6247059f5"
      },
      "source": [
        "files.download('model_plot4a.png')"
      ],
      "execution_count": 146,
      "outputs": [
        {
          "output_type": "display_data",
          "data": {
            "application/javascript": [
              "\n",
              "    async function download(id, filename, size) {\n",
              "      if (!google.colab.kernel.accessAllowed) {\n",
              "        return;\n",
              "      }\n",
              "      const div = document.createElement('div');\n",
              "      const label = document.createElement('label');\n",
              "      label.textContent = `Downloading \"${filename}\": `;\n",
              "      div.appendChild(label);\n",
              "      const progress = document.createElement('progress');\n",
              "      progress.max = size;\n",
              "      div.appendChild(progress);\n",
              "      document.body.appendChild(div);\n",
              "\n",
              "      const buffers = [];\n",
              "      let downloaded = 0;\n",
              "\n",
              "      const channel = await google.colab.kernel.comms.open(id);\n",
              "      // Send a message to notify the kernel that we're ready.\n",
              "      channel.send({})\n",
              "\n",
              "      for await (const message of channel.messages) {\n",
              "        // Send a message to notify the kernel that we're ready.\n",
              "        channel.send({})\n",
              "        if (message.buffers) {\n",
              "          for (const buffer of message.buffers) {\n",
              "            buffers.push(buffer);\n",
              "            downloaded += buffer.byteLength;\n",
              "            progress.value = downloaded;\n",
              "          }\n",
              "        }\n",
              "      }\n",
              "      const blob = new Blob(buffers, {type: 'application/binary'});\n",
              "      const a = document.createElement('a');\n",
              "      a.href = window.URL.createObjectURL(blob);\n",
              "      a.download = filename;\n",
              "      div.appendChild(a);\n",
              "      a.click();\n",
              "      div.remove();\n",
              "    }\n",
              "  "
            ],
            "text/plain": [
              "<IPython.core.display.Javascript object>"
            ]
          },
          "metadata": {
            "tags": []
          }
        },
        {
          "output_type": "display_data",
          "data": {
            "application/javascript": [
              "download(\"download_4c30f3f7-4d0f-4b5d-94e6-1e017bc05a5a\", \"model_plot4a.png\", 93426)"
            ],
            "text/plain": [
              "<IPython.core.display.Javascript object>"
            ]
          },
          "metadata": {
            "tags": []
          }
        }
      ]
    },
    {
      "cell_type": "code",
      "metadata": {
        "id": "FY7ivDz5c0Sy"
      },
      "source": [
        ""
      ],
      "execution_count": null,
      "outputs": []
    }
  ]
}