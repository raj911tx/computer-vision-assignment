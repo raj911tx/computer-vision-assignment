{
  "nbformat": 4,
  "nbformat_minor": 0,
  "metadata": {
    "colab": {
      "name": "Computer_Vision_Assignment_Task1 (2).ipynb",
      "provenance": [],
      "collapsed_sections": []
    },
    "kernelspec": {
      "name": "python3",
      "display_name": "Python 3"
    },
    "accelerator": "GPU"
  },
  "cells": [
    {
      "cell_type": "markdown",
      "metadata": {
        "id": "yXk86IXcBsk9"
      },
      "source": [
        "***TEXT CLASSIFICATION***\r\n",
        "\r\n",
        "---\r\n",
        "Rajarshi Karmakar\r\n",
        "\r\n",
        "\r\n"
      ]
    },
    {
      "cell_type": "markdown",
      "metadata": {
        "id": "bcKr0hzrAfed"
      },
      "source": [
        "First we are cloning the github repo using this command"
      ]
    },
    {
      "cell_type": "code",
      "metadata": {
        "colab": {
          "base_uri": "https://localhost:8080/"
        },
        "id": "3G6hFsyD5yeK",
        "outputId": "0a5d524b-5f8a-4f6f-a57e-ff9e96279e9c"
      },
      "source": [
        "!git clone https://github.com/eshwarprasadS/CVAssignmentDataset.git"
      ],
      "execution_count": null,
      "outputs": [
        {
          "output_type": "stream",
          "text": [
            "fatal: destination path 'CVAssignmentDataset' already exists and is not an empty directory.\n"
          ],
          "name": "stdout"
        }
      ]
    },
    {
      "cell_type": "code",
      "metadata": {
        "colab": {
          "base_uri": "https://localhost:8080/"
        },
        "id": "tAF4hLpk85Q_",
        "outputId": "6d1c01e5-88ac-42c8-af7b-4e47d0b31605"
      },
      "source": [
        "%cd CVAssignmentDataset"
      ],
      "execution_count": null,
      "outputs": [
        {
          "output_type": "stream",
          "text": [
            "/content/CVAssignmentDataset\n"
          ],
          "name": "stdout"
        }
      ]
    },
    {
      "cell_type": "markdown",
      "metadata": {
        "id": "6bvAsB0hAoV8"
      },
      "source": [
        "Using pandas we are reading the dataset file"
      ]
    },
    {
      "cell_type": "code",
      "metadata": {
        "id": "yMexIIOs86Uk"
      },
      "source": [
        "import pandas as pd\r\n",
        "df=pd.read_csv('CVAssignmentDataset.csv')"
      ],
      "execution_count": null,
      "outputs": []
    },
    {
      "cell_type": "markdown",
      "metadata": {
        "id": "aLAzL4MnCGiJ"
      },
      "source": [
        "using .head() method we are printing first 5 data from the dataframe"
      ]
    },
    {
      "cell_type": "code",
      "metadata": {
        "colab": {
          "base_uri": "https://localhost:8080/",
          "height": 195
        },
        "id": "xftgQk7G9hvf",
        "outputId": "37b40e20-4f3a-4dd6-88e9-30beb11c3a13"
      },
      "source": [
        "df.head()"
      ],
      "execution_count": null,
      "outputs": [
        {
          "output_type": "execute_result",
          "data": {
            "text/html": [
              "<div>\n",
              "<style scoped>\n",
              "    .dataframe tbody tr th:only-of-type {\n",
              "        vertical-align: middle;\n",
              "    }\n",
              "\n",
              "    .dataframe tbody tr th {\n",
              "        vertical-align: top;\n",
              "    }\n",
              "\n",
              "    .dataframe thead th {\n",
              "        text-align: right;\n",
              "    }\n",
              "</style>\n",
              "<table border=\"1\" class=\"dataframe\">\n",
              "  <thead>\n",
              "    <tr style=\"text-align: right;\">\n",
              "      <th></th>\n",
              "      <th>Class</th>\n",
              "      <th>Text</th>\n",
              "    </tr>\n",
              "  </thead>\n",
              "  <tbody>\n",
              "    <tr>\n",
              "      <th>0</th>\n",
              "      <td>1</td>\n",
              "      <td>Today, Senate Dems vote to #SaveTheInternet. P...</td>\n",
              "    </tr>\n",
              "    <tr>\n",
              "      <th>1</th>\n",
              "      <td>1</td>\n",
              "      <td>RT @WinterHavenSun: Winter Haven resident / Al...</td>\n",
              "    </tr>\n",
              "    <tr>\n",
              "      <th>2</th>\n",
              "      <td>1</td>\n",
              "      <td>RT @NBCLatino: .@RepDarrenSoto noted that Hurr...</td>\n",
              "    </tr>\n",
              "    <tr>\n",
              "      <th>3</th>\n",
              "      <td>1</td>\n",
              "      <td>RT @NALCABPolicy: Meeting with @RepDarrenSoto ...</td>\n",
              "    </tr>\n",
              "    <tr>\n",
              "      <th>4</th>\n",
              "      <td>1</td>\n",
              "      <td>RT @Vegalteno: Hurricane season starts on June...</td>\n",
              "    </tr>\n",
              "  </tbody>\n",
              "</table>\n",
              "</div>"
            ],
            "text/plain": [
              "  Class                                               Text\n",
              "0     1  Today, Senate Dems vote to #SaveTheInternet. P...\n",
              "1     1  RT @WinterHavenSun: Winter Haven resident / Al...\n",
              "2     1  RT @NBCLatino: .@RepDarrenSoto noted that Hurr...\n",
              "3     1  RT @NALCABPolicy: Meeting with @RepDarrenSoto ...\n",
              "4     1  RT @Vegalteno: Hurricane season starts on June..."
            ]
          },
          "metadata": {
            "tags": []
          },
          "execution_count": 5
        }
      ]
    },
    {
      "cell_type": "markdown",
      "metadata": {
        "id": "9iiKwKCkCeBh"
      },
      "source": [
        "we have a mislabeled class in the dataset which we are removing by this command"
      ]
    },
    {
      "cell_type": "code",
      "metadata": {
        "id": "RyvJYQ_1GY8A"
      },
      "source": [
        "df=df[df['Class']!='https://t.co/sbSljdw1Zw']"
      ],
      "execution_count": null,
      "outputs": []
    },
    {
      "cell_type": "markdown",
      "metadata": {
        "id": "bsR75IZCCo70"
      },
      "source": [
        "Using Seabord library we are visualizing how much of each class exists in the dataset"
      ]
    },
    {
      "cell_type": "code",
      "metadata": {
        "colab": {
          "base_uri": "https://localhost:8080/",
          "height": 335
        },
        "id": "cudTI5atE6SD",
        "outputId": "10ba10d0-7266-48b4-f8b6-9a066bf5652a"
      },
      "source": [
        "import seaborn as sns\r\n",
        "x=df.Class.value_counts()\r\n",
        "sns.barplot(x.index,x)"
      ],
      "execution_count": null,
      "outputs": [
        {
          "output_type": "stream",
          "text": [
            "/usr/local/lib/python3.6/dist-packages/seaborn/_decorators.py:43: FutureWarning: Pass the following variables as keyword args: x, y. From version 0.12, the only valid positional argument will be `data`, and passing other arguments without an explicit keyword will result in an error or misinterpretation.\n",
            "  FutureWarning\n"
          ],
          "name": "stderr"
        },
        {
          "output_type": "execute_result",
          "data": {
            "text/plain": [
              "<matplotlib.axes._subplots.AxesSubplot at 0x7f21daa44748>"
            ]
          },
          "metadata": {
            "tags": []
          },
          "execution_count": 7
        },
        {
          "output_type": "display_data",
          "data": {
            "image/png": "[encoded data removed]",
            "text/plain": [
              "<Figure size 432x288 with 1 Axes>"
            ]
          },
          "metadata": {
            "tags": [],
            "needs_background": "light"
          }
        }
      ]
    },
    {
      "cell_type": "code",
      "metadata": {
        "colab": {
          "base_uri": "https://localhost:8080/",
          "height": 402
        },
        "id": "z9IiYmYaJ4gQ",
        "outputId": "fec490e9-63fd-4ade-bc1e-c37e82f126b4"
      },
      "source": [
        "df[df['Class']=='0']"
      ],
      "execution_count": null,
      "outputs": [
        {
          "output_type": "execute_result",
          "data": {
            "text/html": [
              "<div>\n",
              "<style scoped>\n",
              "    .dataframe tbody tr th:only-of-type {\n",
              "        vertical-align: middle;\n",
              "    }\n",
              "\n",
              "    .dataframe tbody tr th {\n",
              "        vertical-align: top;\n",
              "    }\n",
              "\n",
              "    .dataframe thead th {\n",
              "        text-align: right;\n",
              "    }\n",
              "</style>\n",
              "<table border=\"1\" class=\"dataframe\">\n",
              "  <thead>\n",
              "    <tr style=\"text-align: right;\">\n",
              "      <th></th>\n",
              "      <th>Class</th>\n",
              "      <th>Text</th>\n",
              "    </tr>\n",
              "  </thead>\n",
              "  <tbody>\n",
              "    <tr>\n",
              "      <th>42069</th>\n",
              "      <td>0</td>\n",
              "      <td>It's #WastefulWednesday! \\n\\nToday, I introduc...</td>\n",
              "    </tr>\n",
              "    <tr>\n",
              "      <th>42070</th>\n",
              "      <td>0</td>\n",
              "      <td>Today we honored all the heroic men &amp;amp; wome...</td>\n",
              "    </tr>\n",
              "    <tr>\n",
              "      <th>42071</th>\n",
              "      <td>0</td>\n",
              "      <td>RT @CongressmanRaja: Last week, @RepRalphNorma...</td>\n",
              "    </tr>\n",
              "    <tr>\n",
              "      <th>42072</th>\n",
              "      <td>0</td>\n",
              "      <td>RT @TegaCayPD: Chief Parker was thankful to re...</td>\n",
              "    </tr>\n",
              "    <tr>\n",
              "      <th>42073</th>\n",
              "      <td>0</td>\n",
              "      <td>I visited the SC Highway Patrol to bring them ...</td>\n",
              "    </tr>\n",
              "    <tr>\n",
              "      <th>...</th>\n",
              "      <td>...</td>\n",
              "      <td>...</td>\n",
              "    </tr>\n",
              "    <tr>\n",
              "      <th>86456</th>\n",
              "      <td>0</td>\n",
              "      <td>Check out my op-ed on need for End Executive O...</td>\n",
              "    </tr>\n",
              "    <tr>\n",
              "      <th>86457</th>\n",
              "      <td>0</td>\n",
              "      <td>Yesterday, Betty &amp;amp; I had a great time lear...</td>\n",
              "    </tr>\n",
              "    <tr>\n",
              "      <th>86458</th>\n",
              "      <td>0</td>\n",
              "      <td>We are forever grateful for the service and sa...</td>\n",
              "    </tr>\n",
              "    <tr>\n",
              "      <th>86459</th>\n",
              "      <td>0</td>\n",
              "      <td>Happy first day of school @CobbSchools! #CobbB...</td>\n",
              "    </tr>\n",
              "    <tr>\n",
              "      <th>86460</th>\n",
              "      <td>0</td>\n",
              "      <td>#Zika fears realized in Florida. House GOP act...</td>\n",
              "    </tr>\n",
              "  </tbody>\n",
              "</table>\n",
              "<p>44392 rows × 2 columns</p>\n",
              "</div>"
            ],
            "text/plain": [
              "      Class                                               Text\n",
              "42069     0  It's #WastefulWednesday! \\n\\nToday, I introduc...\n",
              "42070     0  Today we honored all the heroic men &amp; wome...\n",
              "42071     0  RT @CongressmanRaja: Last week, @RepRalphNorma...\n",
              "42072     0  RT @TegaCayPD: Chief Parker was thankful to re...\n",
              "42073     0  I visited the SC Highway Patrol to bring them ...\n",
              "...     ...                                                ...\n",
              "86456     0  Check out my op-ed on need for End Executive O...\n",
              "86457     0  Yesterday, Betty &amp; I had a great time lear...\n",
              "86458     0  We are forever grateful for the service and sa...\n",
              "86459     0  Happy first day of school @CobbSchools! #CobbB...\n",
              "86460     0  #Zika fears realized in Florida. House GOP act...\n",
              "\n",
              "[44392 rows x 2 columns]"
            ]
          },
          "metadata": {
            "tags": []
          },
          "execution_count": 8
        }
      ]
    },
    {
      "cell_type": "markdown",
      "metadata": {
        "id": "syx7ZBQwC8me"
      },
      "source": [
        "now we are visualizing how many characters are there for each class"
      ]
    },
    {
      "cell_type": "code",
      "metadata": {
        "colab": {
          "base_uri": "https://localhost:8080/",
          "height": 294
        },
        "id": "MfJR2RZ1Hjgw",
        "outputId": "6362799c-4b24-494a-b981-d064a1b12c43"
      },
      "source": [
        "import matplotlib.pyplot as plt\r\n",
        "fig,(axis1,axis2)=plt.subplots(1,2)\r\n",
        "char_len=df[df['Class']=='0']['Text'].str.len()\r\n",
        "axis1.hist(char_len,color='blue')\r\n",
        "axis1.set_title('class 0')\r\n",
        "char_len=df[df['Class']=='1']['Text'].str.len()\r\n",
        "axis2.hist(char_len,color='pink')\r\n",
        "axis2.set_title('class 1')\r\n",
        "fig.suptitle('characters in text')\r\n",
        "plt.show()\r\n"
      ],
      "execution_count": null,
      "outputs": [
        {
          "output_type": "display_data",
          "data": {
            "image/png": "[encoded data removed]",
            "text/plain": [
              "<Figure size 432x288 with 2 Axes>"
            ]
          },
          "metadata": {
            "tags": [],
            "needs_background": "light"
          }
        }
      ]
    },
    {
      "cell_type": "code",
      "metadata": {
        "colab": {
          "base_uri": "https://localhost:8080/",
          "height": 294
        },
        "id": "_hH5uezQLLLb",
        "outputId": "60703e7c-37cf-48b2-eb6a-05afb9ae1950"
      },
      "source": [
        "fig,(axis1,axis2)=plt.subplots(1,2)\r\n",
        "char_len=df[df['Class']=='0']['Text'].str.split().map(lambda x:len(x))\r\n",
        "axis1.hist(char_len,color='green')\r\n",
        "axis1.set_title('class 0')\r\n",
        "char_len=df[df['Class']=='1']['Text'].str.split().map(lambda x:len(x))\r\n",
        "axis2.hist(char_len,color='red')\r\n",
        "axis2.set_title('class 1')\r\n",
        "fig.suptitle('words in text')\r\n",
        "plt.show()"
      ],
      "execution_count": null,
      "outputs": [
        {
          "output_type": "display_data",
          "data": {
            "image/png": "[encoded data removed]",
            "text/plain": [
              "<Figure size 432x288 with 2 Axes>"
            ]
          },
          "metadata": {
            "tags": [],
            "needs_background": "light"
          }
        }
      ]
    },
    {
      "cell_type": "code",
      "metadata": {
        "id": "lhvRwScxNKsI"
      },
      "source": [
        "df['Class']=df['Class'].astype(int)"
      ],
      "execution_count": null,
      "outputs": []
    },
    {
      "cell_type": "code",
      "metadata": {
        "id": "lZxvaqr-Mwe9"
      },
      "source": [
        "def create_corpus(target):\r\n",
        "    corpus=[]\r\n",
        "    \r\n",
        "    for x in df[df['Class']==target]['Text'].str.split():\r\n",
        "        for i in x:\r\n",
        "            corpus.append(i)\r\n",
        "    return corpus"
      ],
      "execution_count": null,
      "outputs": []
    },
    {
      "cell_type": "code",
      "metadata": {
        "id": "D1991sgoNBgb"
      },
      "source": [
        "from nltk.util import ngrams\r\n",
        "from sklearn.feature_extraction.text import CountVectorizer\r\n"
      ],
      "execution_count": null,
      "outputs": []
    },
    {
      "cell_type": "markdown",
      "metadata": {
        "id": "KbyUU-w2DZfJ"
      },
      "source": [
        "Now we are analysing most common bygrams in the data"
      ]
    },
    {
      "cell_type": "code",
      "metadata": {
        "colab": {
          "base_uri": "https://localhost:8080/",
          "height": 337
        },
        "id": "lBvAVPMZLxQf",
        "outputId": "a6c3d622-207e-4b50-8916-c7ad474a3146"
      },
      "source": [
        "def get_top_bigrams(corpus, n=None):\r\n",
        "    vec = CountVectorizer(ngram_range=(2, 2)).fit(corpus)\r\n",
        "    bag_of_words = vec.transform(corpus)\r\n",
        "    sum_words = bag_of_words.sum(axis=0) \r\n",
        "    words_freq = [(word, sum_words[0, idx]) for word, idx in vec.vocabulary_.items()]\r\n",
        "    words_freq =sorted(words_freq, key = lambda x: x[1], reverse=True)\r\n",
        "    return words_freq[:n]\r\n",
        "plt.figure(figsize=(10,5))\r\n",
        "top_bigrams=get_top_bigrams(df['Text'])[:10]\r\n",
        "x,y=map(list,zip(*top_bigrams))\r\n",
        "sns.barplot(x=y,y=x)"
      ],
      "execution_count": null,
      "outputs": [
        {
          "output_type": "execute_result",
          "data": {
            "text/plain": [
              "<matplotlib.axes._subplots.AxesSubplot at 0x7f21d26ebe80>"
            ]
          },
          "metadata": {
            "tags": []
          },
          "execution_count": 14
        },
        {
          "output_type": "display_data",
          "data": {
            "image/png": "[encoded data removed]",
            "text/plain": [
              "<Figure size 720x360 with 1 Axes>"
            ]
          },
          "metadata": {
            "tags": [],
            "needs_background": "light"
          }
        }
      ]
    },
    {
      "cell_type": "markdown",
      "metadata": {
        "id": "V6mgTW9XDm5U"
      },
      "source": [
        "We can see the dataset contents URLs.We have to remove these before traing the data"
      ]
    },
    {
      "cell_type": "code",
      "metadata": {
        "id": "FErHvo9DPPk-"
      },
      "source": [
        "import re\r\n",
        "def remove_URL(text):\r\n",
        "    url = re.compile(r'https?://\\S+|www\\.\\S+')\r\n",
        "    return url.sub(r'',text)\r\n",
        "df['Text']=df['Text'].apply(lambda x : remove_URL(x))"
      ],
      "execution_count": null,
      "outputs": []
    },
    {
      "cell_type": "markdown",
      "metadata": {
        "id": "PQULhPMiD6cO"
      },
      "source": [
        "We are removing any present emojis and puntaution from the dataset"
      ]
    },
    {
      "cell_type": "code",
      "metadata": {
        "id": "sHyuuI0VPgET"
      },
      "source": [
        "def remove_emoji(text):\r\n",
        "    emoji_pattern = re.compile(\"[\"\r\n",
        "                           u\"\\U0001F600-\\U0001F64F\"  # emoticons\r\n",
        "                           u\"\\U0001F300-\\U0001F5FF\"  # symbols & pictographs\r\n",
        "                           u\"\\U0001F680-\\U0001F6FF\"  # transport & map symbols\r\n",
        "                           u\"\\U0001F1E0-\\U0001F1FF\"  # flags (iOS)\r\n",
        "                           u\"\\U00002702-\\U000027B0\"\r\n",
        "                           u\"\\U000024C2-\\U0001F251\"\r\n",
        "                           \"]+\", flags=re.UNICODE)\r\n",
        "    return emoji_pattern.sub(r'', text)\r\n",
        "df['Text']=df['Text'].apply(lambda x: remove_emoji(x))    "
      ],
      "execution_count": null,
      "outputs": []
    },
    {
      "cell_type": "code",
      "metadata": {
        "id": "FoOjI0xAPp6k"
      },
      "source": [
        "import string\r\n",
        "def remove_punct(text):\r\n",
        "    table=str.maketrans('','',string.punctuation)\r\n",
        "    return text.translate(table)\r\n",
        "df['Text']=df['Text'].apply(lambda x : remove_punct(x))"
      ],
      "execution_count": null,
      "outputs": []
    },
    {
      "cell_type": "code",
      "metadata": {
        "colab": {
          "base_uri": "https://localhost:8080/"
        },
        "id": "B8EyiDzenNVN",
        "outputId": "5c139c0a-bd95-492f-921a-948d25e8e4f4"
      },
      "source": [
        "import nltk\r\n",
        "nltk.download('stopwords')\r\n",
        "nltk.download('punkt')"
      ],
      "execution_count": null,
      "outputs": [
        {
          "output_type": "stream",
          "text": [
            "[nltk_data] Downloading package stopwords to /root/nltk_data...\n",
            "[nltk_data]   Unzipping corpora/stopwords.zip.\n",
            "[nltk_data] Downloading package punkt to /root/nltk_data...\n",
            "[nltk_data]   Unzipping tokenizers/punkt.zip.\n"
          ],
          "name": "stdout"
        },
        {
          "output_type": "execute_result",
          "data": {
            "text/plain": [
              "True"
            ]
          },
          "metadata": {
            "tags": []
          },
          "execution_count": 17
        }
      ]
    },
    {
      "cell_type": "code",
      "metadata": {
        "id": "7dcv_NKoRCDw"
      },
      "source": [
        "from nltk.corpus import stopwords\r\n",
        "stop=set(stopwords.words('english'))\r\n",
        "corpus=create_corpus(df)\r\n"
      ],
      "execution_count": null,
      "outputs": []
    },
    {
      "cell_type": "code",
      "metadata": {
        "id": "ESCzchMFvr8w"
      },
      "source": [
        "print(corpus[:10])"
      ],
      "execution_count": null,
      "outputs": []
    },
    {
      "cell_type": "markdown",
      "metadata": {
        "id": "WY6mwfgbEnd3"
      },
      "source": [
        "Now to be able to using machine learning we have to transform the text data to set of numbers thats why we are using Tokenizer"
      ]
    },
    {
      "cell_type": "code",
      "metadata": {
        "id": "53fyGDeDZ2NK"
      },
      "source": [
        "from keras.preprocessing.text import Tokenizer\r\n",
        "from keras.preprocessing.sequence import pad_sequences\r\n",
        "tokenizer=Tokenizer()\r\n",
        "tokenizer.fit_on_texts(df['Text'])\r\n",
        "max_len=50"
      ],
      "execution_count": null,
      "outputs": []
    },
    {
      "cell_type": "code",
      "metadata": {
        "id": "N2LC4yOZa9MY"
      },
      "source": [
        "vocab_size=len(tokenizer.word_index)"
      ],
      "execution_count": null,
      "outputs": []
    },
    {
      "cell_type": "markdown",
      "metadata": {
        "id": "7DDkGMCBE1EH"
      },
      "source": [
        "Now we are splitting the dataset into training and testing data using sklearn library"
      ]
    },
    {
      "cell_type": "code",
      "metadata": {
        "id": "iQw0HlI93YLq"
      },
      "source": [
        "from sklearn.model_selection import train_test_split\r\n",
        "x_train,x_test,y_train,y_test=train_test_split(df['Text'],df['Class'],test_size=0.2)"
      ],
      "execution_count": null,
      "outputs": []
    },
    {
      "cell_type": "code",
      "metadata": {
        "colab": {
          "base_uri": "https://localhost:8080/"
        },
        "id": "rggyeMITcQaO",
        "outputId": "9dd6ee21-0fba-4f91-a91d-936d898fad2e"
      },
      "source": [
        "print(max_len)"
      ],
      "execution_count": null,
      "outputs": [
        {
          "output_type": "stream",
          "text": [
            "50\n"
          ],
          "name": "stdout"
        }
      ]
    },
    {
      "cell_type": "code",
      "metadata": {
        "id": "Agg2hVoObprc"
      },
      "source": [
        "x_train_tokens=tokenizer.texts_to_sequences(x_train)\r\n",
        "x_test_tokens=tokenizer.texts_to_sequences(x_test)\r\n",
        "\r\n",
        "x_train_pad=pad_sequences(x_train_tokens,maxlen=max_len,padding='post')\r\n",
        "x_test_pad=pad_sequences(x_test_tokens,maxlen=max_len,padding='post')"
      ],
      "execution_count": null,
      "outputs": []
    },
    {
      "cell_type": "markdown",
      "metadata": {
        "id": "X2ZQkeb5E_kf"
      },
      "source": [
        "Now we are ready to build the classification model using several layers"
      ]
    },
    {
      "cell_type": "code",
      "metadata": {
        "id": "GtUdQoEncdLc"
      },
      "source": [
        "from keras.models import Sequential\r\n",
        "from keras.layers import Dense,Embedding,LSTM,Bidirectional,Conv1D,MaxPooling1D,Dropout\r\n",
        "from keras.layers.embeddings import Embedding\r\n",
        "EMBEDDING_DIM=32\r\n",
        "model=Sequential()\r\n",
        "model.add(Embedding(vocab_size+1,EMBEDDING_DIM,input_length=50))\r\n",
        "model.add(Conv1D(filters=32,kernel_size=5,padding='same'))\r\n",
        "model.add(MaxPooling1D(pool_size=2))\r\n",
        "model.add(Bidirectional(LSTM(256,return_sequences=True)))\r\n",
        "model.add(Dropout(0.2))\r\n",
        "model.add(Bidirectional(LSTM(256)))\r\n",
        "model.add(Dropout(0.2))\r\n",
        "model.add(Dense(1024,activation='relu'))\r\n",
        "model.add(Dropout(0.3))\r\n",
        "model.add(Dense(512,activation='relu'))\r\n",
        "model.add(Dropout(0.2))\r\n",
        "model.add(Dense(1,activation='sigmoid'))\r\n",
        "model.compile(loss='binary_crossentropy',optimizer='adam',metrics=['accuracy'])"
      ],
      "execution_count": null,
      "outputs": []
    },
    {
      "cell_type": "code",
      "metadata": {
        "colab": {
          "base_uri": "https://localhost:8080/"
        },
        "id": "nMWPKTMwdfJV",
        "outputId": "1a723ab9-a05c-48bd-f570-d784e2a385df"
      },
      "source": [
        "model.summary()"
      ],
      "execution_count": null,
      "outputs": [
        {
          "output_type": "stream",
          "text": [
            "Model: \"sequential_9\"\n",
            "_________________________________________________________________\n",
            "Layer (type)                 Output Shape              Param #   \n",
            "=================================================================\n",
            "embedding_8 (Embedding)      (None, 50, 32)            2452832   \n",
            "_________________________________________________________________\n",
            "conv1d_8 (Conv1D)            (None, 50, 32)            5152      \n",
            "_________________________________________________________________\n",
            "max_pooling1d_8 (MaxPooling1 (None, 25, 32)            0         \n",
            "_________________________________________________________________\n",
            "bidirectional_16 (Bidirectio (None, 25, 512)           591872    \n",
            "_________________________________________________________________\n",
            "dropout_29 (Dropout)         (None, 25, 512)           0         \n",
            "_________________________________________________________________\n",
            "bidirectional_17 (Bidirectio (None, 512)               1574912   \n",
            "_________________________________________________________________\n",
            "dropout_30 (Dropout)         (None, 512)               0         \n",
            "_________________________________________________________________\n",
            "dense_20 (Dense)             (None, 1024)              525312    \n",
            "_________________________________________________________________\n",
            "dropout_31 (Dropout)         (None, 1024)              0         \n",
            "_________________________________________________________________\n",
            "dense_21 (Dense)             (None, 512)               524800    \n",
            "_________________________________________________________________\n",
            "dropout_32 (Dropout)         (None, 512)               0         \n",
            "_________________________________________________________________\n",
            "dense_22 (Dense)             (None, 1)                 513       \n",
            "=================================================================\n",
            "Total params: 5,675,393\n",
            "Trainable params: 5,675,393\n",
            "Non-trainable params: 0\n",
            "_________________________________________________________________\n"
          ],
          "name": "stdout"
        }
      ]
    },
    {
      "cell_type": "markdown",
      "metadata": {
        "id": "iiU2cbJeFNYI"
      },
      "source": [
        "our model contains 5.6M parameters which takes longer for training without GPU"
      ]
    },
    {
      "cell_type": "code",
      "metadata": {
        "colab": {
          "base_uri": "https://localhost:8080/",
          "height": 1000
        },
        "id": "oNpY-w_Nf5Ra",
        "outputId": "4ebc339a-ddab-4b1d-9f07-f2a6350afbca"
      },
      "source": [
        "from tensorflow.keras.utils import plot_model\r\n",
        "plot_model(model, to_file='model_plot4a.png', show_shapes=True, show_layer_names=True)"
      ],
      "execution_count": null,
      "outputs": [
        {
          "output_type": "execute_result",
          "data": {
            "image/png": "[encoded data removed]",
            "text/plain": [
              "<IPython.core.display.Image object>"
            ]
          },
          "metadata": {
            "tags": []
          },
          "execution_count": 77
        }
      ]
    },
    {
      "cell_type": "code",
      "metadata": {
        "colab": {
          "base_uri": "https://localhost:8080/"
        },
        "id": "VspsPIVNgref",
        "outputId": "02c360ef-1687-4848-82cc-0f0e35dbbb62"
      },
      "source": [
        "history=model.fit(x_train_pad,y_train,batch_size=64,epochs=25,validation_split=0.3,verbose=2)"
      ],
      "execution_count": null,
      "outputs": [
        {
          "output_type": "stream",
          "text": [
            "Epoch 1/25\n",
            "757/757 - 34s - loss: 0.5261 - accuracy: 0.7122 - val_loss: 0.4399 - val_accuracy: 0.7829\n",
            "Epoch 2/25\n",
            "757/757 - 28s - loss: 0.2788 - accuracy: 0.8794 - val_loss: 0.4469 - val_accuracy: 0.7762\n",
            "Epoch 3/25\n",
            "757/757 - 28s - loss: 0.1193 - accuracy: 0.9533 - val_loss: 0.5915 - val_accuracy: 0.7785\n",
            "Epoch 4/25\n",
            "757/757 - 28s - loss: 0.0491 - accuracy: 0.9827 - val_loss: 0.8830 - val_accuracy: 0.7793\n",
            "Epoch 5/25\n",
            "757/757 - 28s - loss: 0.0296 - accuracy: 0.9901 - val_loss: 1.0837 - val_accuracy: 0.7758\n",
            "Epoch 6/25\n",
            "757/757 - 28s - loss: 0.0224 - accuracy: 0.9920 - val_loss: 1.2938 - val_accuracy: 0.7741\n",
            "Epoch 7/25\n",
            "757/757 - 28s - loss: 0.0179 - accuracy: 0.9933 - val_loss: 1.6374 - val_accuracy: 0.7699\n",
            "Epoch 8/25\n",
            "757/757 - 28s - loss: 0.0175 - accuracy: 0.9935 - val_loss: 1.6182 - val_accuracy: 0.7649\n",
            "Epoch 9/25\n",
            "757/757 - 28s - loss: 0.0159 - accuracy: 0.9939 - val_loss: 1.4727 - val_accuracy: 0.7679\n",
            "Epoch 10/25\n",
            "757/757 - 28s - loss: 0.0128 - accuracy: 0.9945 - val_loss: 1.6075 - val_accuracy: 0.7700\n",
            "Epoch 11/25\n",
            "757/757 - 28s - loss: 0.0125 - accuracy: 0.9952 - val_loss: 1.7195 - val_accuracy: 0.7721\n",
            "Epoch 12/25\n",
            "757/757 - 29s - loss: 0.0118 - accuracy: 0.9950 - val_loss: 1.2876 - val_accuracy: 0.7681\n",
            "Epoch 13/25\n",
            "757/757 - 28s - loss: 0.0126 - accuracy: 0.9947 - val_loss: 1.2757 - val_accuracy: 0.7696\n",
            "Epoch 14/25\n",
            "757/757 - 28s - loss: 0.0091 - accuracy: 0.9957 - val_loss: 1.8028 - val_accuracy: 0.7659\n",
            "Epoch 15/25\n",
            "757/757 - 28s - loss: 0.0104 - accuracy: 0.9956 - val_loss: 2.1430 - val_accuracy: 0.7710\n",
            "Epoch 16/25\n",
            "757/757 - 29s - loss: 0.0099 - accuracy: 0.9956 - val_loss: 2.0425 - val_accuracy: 0.7660\n",
            "Epoch 17/25\n",
            "757/757 - 28s - loss: 0.0099 - accuracy: 0.9959 - val_loss: 1.8481 - val_accuracy: 0.7630\n",
            "Epoch 18/25\n",
            "757/757 - 28s - loss: 0.0089 - accuracy: 0.9961 - val_loss: 1.7857 - val_accuracy: 0.7714\n",
            "Epoch 19/25\n",
            "757/757 - 28s - loss: 0.0077 - accuracy: 0.9963 - val_loss: 2.1568 - val_accuracy: 0.7710\n",
            "Epoch 20/25\n",
            "757/757 - 28s - loss: 0.0098 - accuracy: 0.9957 - val_loss: 1.7720 - val_accuracy: 0.7707\n",
            "Epoch 21/25\n",
            "757/757 - 28s - loss: 0.0124 - accuracy: 0.9950 - val_loss: 2.3765 - val_accuracy: 0.7669\n",
            "Epoch 22/25\n",
            "757/757 - 28s - loss: 0.0080 - accuracy: 0.9960 - val_loss: 2.3207 - val_accuracy: 0.7614\n",
            "Epoch 23/25\n",
            "757/757 - 29s - loss: 0.0067 - accuracy: 0.9962 - val_loss: 2.5171 - val_accuracy: 0.7742\n",
            "Epoch 24/25\n",
            "757/757 - 28s - loss: 0.0059 - accuracy: 0.9970 - val_loss: 2.4032 - val_accuracy: 0.7658\n",
            "Epoch 25/25\n",
            "757/757 - 28s - loss: 0.0054 - accuracy: 0.9970 - val_loss: 2.4349 - val_accuracy: 0.7619\n"
          ],
          "name": "stdout"
        }
      ]
    },
    {
      "cell_type": "markdown",
      "metadata": {
        "id": "UGqXuw5IFh42"
      },
      "source": [
        "we are getting 99.7% acuuracy by trining this model.Now we can plot accuracy over each epochs."
      ]
    },
    {
      "cell_type": "code",
      "metadata": {
        "id": "o51hpO6wiGFZ"
      },
      "source": [
        "model_loss = pd.DataFrame(history.history)"
      ],
      "execution_count": null,
      "outputs": []
    },
    {
      "cell_type": "code",
      "metadata": {
        "colab": {
          "base_uri": "https://localhost:8080/",
          "height": 269
        },
        "id": "LMjwOQqjiUhU",
        "outputId": "7ca8a54d-1674-4e5d-ddaf-ece567f47f02"
      },
      "source": [
        "model_loss[['accuracy','val_accuracy']].plot(ylim=[0,1]);"
      ],
      "execution_count": null,
      "outputs": [
        {
          "output_type": "display_data",
          "data": {
            "image/png": "[encoded data removed]",
            "text/plain": [
              "<Figure size 432x288 with 1 Axes>"
            ]
          },
          "metadata": {
            "tags": [],
            "needs_background": "light"
          }
        }
      ]
    },
    {
      "cell_type": "code",
      "metadata": {
        "id": "NXBp978MlcAS"
      },
      "source": [
        "y_pred=model.predict(x_test_pad)"
      ],
      "execution_count": null,
      "outputs": []
    },
    {
      "cell_type": "code",
      "metadata": {
        "colab": {
          "base_uri": "https://localhost:8080/"
        },
        "id": "_QULcg81iY-N",
        "outputId": "c8bddbb1-882b-4a03-908f-60b5b22900dc"
      },
      "source": [
        "from sklearn.metrics import classification_report,confusion_matrix,accuracy_score,matthews_corrcoef\r\n",
        "print(classification_report(y_test,(y_pred>0.5).astype(int)))"
      ],
      "execution_count": null,
      "outputs": [
        {
          "output_type": "stream",
          "text": [
            "              precision    recall  f1-score   support\n",
            "\n",
            "           0       0.80      0.72      0.76      8888\n",
            "           1       0.74      0.81      0.77      8404\n",
            "\n",
            "    accuracy                           0.77     17292\n",
            "   macro avg       0.77      0.77      0.77     17292\n",
            "weighted avg       0.77      0.77      0.77     17292\n",
            "\n"
          ],
          "name": "stdout"
        }
      ]
    },
    {
      "cell_type": "code",
      "metadata": {
        "colab": {
          "base_uri": "https://localhost:8080/"
        },
        "id": "CmGd-BV9qbr8",
        "outputId": "5b8ec5ea-20a2-4371-d221-080976e57455"
      },
      "source": [
        "print(accuracy_score(y_test,(y_pred>0.5).astype(int)))"
      ],
      "execution_count": null,
      "outputs": [
        {
          "output_type": "stream",
          "text": [
            "0.7657298172565348\n"
          ],
          "name": "stdout"
        }
      ]
    },
    {
      "cell_type": "code",
      "metadata": {
        "colab": {
          "base_uri": "https://localhost:8080/"
        },
        "id": "LpXU-kR_pCQ3",
        "outputId": "7c6fbb29-8b83-40ac-b7b1-4dfa2ebe1355"
      },
      "source": [
        "cm=confusion_matrix(y_test,(y_pred>0.5).astype(int))\r\n",
        "print(cm)"
      ],
      "execution_count": null,
      "outputs": [
        {
          "output_type": "stream",
          "text": [
            "[[6437 2451]\n",
            " [1600 6804]]\n"
          ],
          "name": "stdout"
        }
      ]
    },
    {
      "cell_type": "code",
      "metadata": {
        "colab": {
          "base_uri": "https://localhost:8080/",
          "height": 316
        },
        "id": "2KLGxOUjsRpH",
        "outputId": "1b3bad96-2516-43a5-b07c-4abad44a4b31"
      },
      "source": [
        "import matplotlib.pyplot as plt\r\n",
        "import numpy as np\r\n",
        "plt.clf()\r\n",
        "plt.imshow(cm, interpolation='nearest', cmap=plt.cm.Wistia)\r\n",
        "classNames = ['Class0','Class1']\r\n",
        "plt.title('Confusion Matrix')\r\n",
        "plt.ylabel('True label')\r\n",
        "plt.xlabel('Predicted label')\r\n",
        "tick_marks = np.arange(len(classNames))\r\n",
        "plt.xticks(tick_marks, classNames, rotation=45)\r\n",
        "plt.yticks(tick_marks, classNames)\r\n",
        "s = [['TN','FP'], ['FN', 'TP']]\r\n",
        " \r\n",
        "for i in range(2):\r\n",
        "    for j in range(2):\r\n",
        "        plt.text(j,i, str(s[i][j])+\" = \"+str(cm[i][j]))\r\n",
        "plt.show()"
      ],
      "execution_count": null,
      "outputs": [
        {
          "output_type": "display_data",
          "data": {
            "image/png": "[encoded data removed]",
            "text/plain": [
              "<Figure size 432x288 with 1 Axes>"
            ]
          },
          "metadata": {
            "tags": [],
            "needs_background": "light"
          }
        }
      ]
    },
    {
      "cell_type": "code",
      "metadata": {
        "colab": {
          "base_uri": "https://localhost:8080/"
        },
        "id": "fk_xuKMbo-Av",
        "outputId": "28df539f-3c25-43bd-8ef9-a5070297e74e"
      },
      "source": [
        "print(matthews_corrcoef(y_test,(y_pred>0.5).astype(int)))"
      ],
      "execution_count": null,
      "outputs": [
        {
          "output_type": "stream",
          "text": [
            "0.534968982320277\n"
          ],
          "name": "stdout"
        }
      ]
    },
    {
      "cell_type": "code",
      "metadata": {
        "id": "v9m6h1Uoo9ZZ"
      },
      "source": [
        "model.save('model.h5')"
      ],
      "execution_count": null,
      "outputs": []
    },
    {
      "cell_type": "markdown",
      "metadata": {
        "id": "7QfqQlCOGKcA"
      },
      "source": [
        "We can use the following code to download the weights of the model.So we can use these pretrained weights for predicting later."
      ]
    },
    {
      "cell_type": "code",
      "metadata": {
        "colab": {
          "base_uri": "https://localhost:8080/",
          "height": 17
        },
        "id": "67ltMOfCo4ny",
        "outputId": "ed4ed32c-96cf-4f8d-9d15-320d4a782e08"
      },
      "source": [
        "from google.colab import files\r\n",
        "files.download('model.h5')"
      ],
      "execution_count": null,
      "outputs": [
        {
          "output_type": "display_data",
          "data": {
            "application/javascript": [
              "\n",
              "    async function download(id, filename, size) {\n",
              "      if (!google.colab.kernel.accessAllowed) {\n",
              "        return;\n",
              "      }\n",
              "      const div = document.createElement('div');\n",
              "      const label = document.createElement('label');\n",
              "      label.textContent = `Downloading \"${filename}\": `;\n",
              "      div.appendChild(label);\n",
              "      const progress = document.createElement('progress');\n",
              "      progress.max = size;\n",
              "      div.appendChild(progress);\n",
              "      document.body.appendChild(div);\n",
              "\n",
              "      const buffers = [];\n",
              "      let downloaded = 0;\n",
              "\n",
              "      const channel = await google.colab.kernel.comms.open(id);\n",
              "      // Send a message to notify the kernel that we're ready.\n",
              "      channel.send({})\n",
              "\n",
              "      for await (const message of channel.messages) {\n",
              "        // Send a message to notify the kernel that we're ready.\n",
              "        channel.send({})\n",
              "        if (message.buffers) {\n",
              "          for (const buffer of message.buffers) {\n",
              "            buffers.push(buffer);\n",
              "            downloaded += buffer.byteLength;\n",
              "            progress.value = downloaded;\n",
              "          }\n",
              "        }\n",
              "      }\n",
              "      const blob = new Blob(buffers, {type: 'application/binary'});\n",
              "      const a = document.createElement('a');\n",
              "      a.href = window.URL.createObjectURL(blob);\n",
              "      a.download = filename;\n",
              "      div.appendChild(a);\n",
              "      a.click();\n",
              "      div.remove();\n",
              "    }\n",
              "  "
            ],
            "text/plain": [
              "<IPython.core.display.Javascript object>"
            ]
          },
          "metadata": {
            "tags": []
          }
        },
        {
          "output_type": "display_data",
          "data": {
            "application/javascript": [
              "download(\"download_67453864-fbd4-4362-b2b4-00bbc73f235e\", \"model.h5\", 68208328)"
            ],
            "text/plain": [
              "<IPython.core.display.Javascript object>"
            ]
          },
          "metadata": {
            "tags": []
          }
        }
      ]
    },
    {
      "cell_type": "code",
      "metadata": {
        "colab": {
          "base_uri": "https://localhost:8080/",
          "height": 17
        },
        "id": "vhqrcMhApZqE",
        "outputId": "91a73de4-0112-4934-f7b0-0b1c61a215b7"
      },
      "source": [
        "files.download('model_plot4a.png')"
      ],
      "execution_count": null,
      "outputs": [
        {
          "output_type": "display_data",
          "data": {
            "application/javascript": [
              "\n",
              "    async function download(id, filename, size) {\n",
              "      if (!google.colab.kernel.accessAllowed) {\n",
              "        return;\n",
              "      }\n",
              "      const div = document.createElement('div');\n",
              "      const label = document.createElement('label');\n",
              "      label.textContent = `Downloading \"${filename}\": `;\n",
              "      div.appendChild(label);\n",
              "      const progress = document.createElement('progress');\n",
              "      progress.max = size;\n",
              "      div.appendChild(progress);\n",
              "      document.body.appendChild(div);\n",
              "\n",
              "      const buffers = [];\n",
              "      let downloaded = 0;\n",
              "\n",
              "      const channel = await google.colab.kernel.comms.open(id);\n",
              "      // Send a message to notify the kernel that we're ready.\n",
              "      channel.send({})\n",
              "\n",
              "      for await (const message of channel.messages) {\n",
              "        // Send a message to notify the kernel that we're ready.\n",
              "        channel.send({})\n",
              "        if (message.buffers) {\n",
              "          for (const buffer of message.buffers) {\n",
              "            buffers.push(buffer);\n",
              "            downloaded += buffer.byteLength;\n",
              "            progress.value = downloaded;\n",
              "          }\n",
              "        }\n",
              "      }\n",
              "      const blob = new Blob(buffers, {type: 'application/binary'});\n",
              "      const a = document.createElement('a');\n",
              "      a.href = window.URL.createObjectURL(blob);\n",
              "      a.download = filename;\n",
              "      div.appendChild(a);\n",
              "      a.click();\n",
              "      div.remove();\n",
              "    }\n",
              "  "
            ],
            "text/plain": [
              "<IPython.core.display.Javascript object>"
            ]
          },
          "metadata": {
            "tags": []
          }
        },
        {
          "output_type": "display_data",
          "data": {
            "application/javascript": [
              "download(\"download_0d627f4b-af43-4d56-82c7-e9bf8f76acc9\", \"model_plot4a.png\", 92406)"
            ],
            "text/plain": [
              "<IPython.core.display.Javascript object>"
            ]
          },
          "metadata": {
            "tags": []
          }
        }
      ]
    }
  ]
}
