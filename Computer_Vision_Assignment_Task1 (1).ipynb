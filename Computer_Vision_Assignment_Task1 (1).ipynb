{
  "nbformat": 4,
  "nbformat_minor": 0,
  "metadata": {
    "colab": {
      "name": "Computer Vision Assignment Task1.ipynb",
      "provenance": [],
      "collapsed_sections": []
    },
    "kernelspec": {
      "name": "python3",
      "display_name": "Python 3"
    },
    "accelerator": "GPU"
  },
  "cells": [
    {
      "cell_type": "code",
      "metadata": {
        "colab": {
          "base_uri": "https://localhost:8080/"
        },
        "id": "3G6hFsyD5yeK",
        "outputId": "6d6cfec5-0db2-4435-a037-5cba7c50141b"
      },
      "source": [
        "!git clone https://github.com/eshwarprasadS/CVAssignmentDataset.git"
      ],
      "execution_count": null,
      "outputs": [
        {
          "output_type": "stream",
          "text": [
            "Cloning into 'CVAssignmentDataset'...\n",
            "remote: Enumerating objects: 11, done.\u001b[K\n",
            "remote: Counting objects: 100% (11/11), done.\u001b[K\n",
            "remote: Compressing objects: 100% (11/11), done.\u001b[K\n",
            "remote: Total 11 (delta 2), reused 0 (delta 0), pack-reused 0\u001b[K\n",
            "Unpacking objects: 100% (11/11), done.\n"
          ],
          "name": "stdout"
        }
      ]
    },
    {
      "cell_type": "code",
      "metadata": {
        "colab": {
          "base_uri": "https://localhost:8080/"
        },
        "id": "tAF4hLpk85Q_",
        "outputId": "5075b840-1ae5-4b89-9431-178d75f4351c"
      },
      "source": [
        "%cd CVAssignmentDataset"
      ],
      "execution_count": null,
      "outputs": [
        {
          "output_type": "stream",
          "text": [
            "/content/CVAssignmentDataset\n"
          ],
          "name": "stdout"
        }
      ]
    },
    {
      "cell_type": "code",
      "metadata": {
        "id": "yMexIIOs86Uk"
      },
      "source": [
        "import pandas as pd\r\n",
        "df=pd.read_csv('CVAssignmentDataset.csv')"
      ],
      "execution_count": null,
      "outputs": []
    },
    {
      "cell_type": "code",
      "metadata": {
        "colab": {
          "base_uri": "https://localhost:8080/",
          "height": 195
        },
        "id": "xftgQk7G9hvf",
        "outputId": "5eab506a-1d48-4e0a-d9e8-a47a5bcc4372"
      },
      "source": [
        "df.head()"
      ],
      "execution_count": null,
      "outputs": [
        {
          "output_type": "execute_result",
          "data": {
            "text/html": [
              "<div>\n",
              "<style scoped>\n",
              "    .dataframe tbody tr th:only-of-type {\n",
              "        vertical-align: middle;\n",
              "    }\n",
              "\n",
              "    .dataframe tbody tr th {\n",
              "        vertical-align: top;\n",
              "    }\n",
              "\n",
              "    .dataframe thead th {\n",
              "        text-align: right;\n",
              "    }\n",
              "</style>\n",
              "<table border=\"1\" class=\"dataframe\">\n",
              "  <thead>\n",
              "    <tr style=\"text-align: right;\">\n",
              "      <th></th>\n",
              "      <th>Class</th>\n",
              "      <th>Text</th>\n",
              "    </tr>\n",
              "  </thead>\n",
              "  <tbody>\n",
              "    <tr>\n",
              "      <th>0</th>\n",
              "      <td>1</td>\n",
              "      <td>Today, Senate Dems vote to #SaveTheInternet. P...</td>\n",
              "    </tr>\n",
              "    <tr>\n",
              "      <th>1</th>\n",
              "      <td>1</td>\n",
              "      <td>RT @WinterHavenSun: Winter Haven resident / Al...</td>\n",
              "    </tr>\n",
              "    <tr>\n",
              "      <th>2</th>\n",
              "      <td>1</td>\n",
              "      <td>RT @NBCLatino: .@RepDarrenSoto noted that Hurr...</td>\n",
              "    </tr>\n",
              "    <tr>\n",
              "      <th>3</th>\n",
              "      <td>1</td>\n",
              "      <td>RT @NALCABPolicy: Meeting with @RepDarrenSoto ...</td>\n",
              "    </tr>\n",
              "    <tr>\n",
              "      <th>4</th>\n",
              "      <td>1</td>\n",
              "      <td>RT @Vegalteno: Hurricane season starts on June...</td>\n",
              "    </tr>\n",
              "  </tbody>\n",
              "</table>\n",
              "</div>"
            ],
            "text/plain": [
              "  Class                                               Text\n",
              "0     1  Today, Senate Dems vote to #SaveTheInternet. P...\n",
              "1     1  RT @WinterHavenSun: Winter Haven resident / Al...\n",
              "2     1  RT @NBCLatino: .@RepDarrenSoto noted that Hurr...\n",
              "3     1  RT @NALCABPolicy: Meeting with @RepDarrenSoto ...\n",
              "4     1  RT @Vegalteno: Hurricane season starts on June..."
            ]
          },
          "metadata": {
            "tags": []
          },
          "execution_count": 4
        }
      ]
    },
    {
      "cell_type": "code",
      "metadata": {
        "id": "RyvJYQ_1GY8A"
      },
      "source": [
        "df=df[df['Class']!='https://t.co/sbSljdw1Zw']"
      ],
      "execution_count": null,
      "outputs": []
    },
    {
      "cell_type": "code",
      "metadata": {
        "colab": {
          "base_uri": "https://localhost:8080/",
          "height": 335
        },
        "id": "cudTI5atE6SD",
        "outputId": "af8d3169-d584-456f-e159-f78bd0fc1be7"
      },
      "source": [
        "import seaborn as sns\r\n",
        "x=df.Class.value_counts()\r\n",
        "sns.barplot(x.index,x)"
      ],
      "execution_count": null,
      "outputs": [
        {
          "output_type": "stream",
          "text": [
            "/usr/local/lib/python3.6/dist-packages/seaborn/_decorators.py:43: FutureWarning: Pass the following variables as keyword args: x, y. From version 0.12, the only valid positional argument will be `data`, and passing other arguments without an explicit keyword will result in an error or misinterpretation.\n",
            "  FutureWarning\n"
          ],
          "name": "stderr"
        },
        {
          "output_type": "execute_result",
          "data": {
            "text/plain": [
              "<matplotlib.axes._subplots.AxesSubplot at 0x7f10b8347550>"
            ]
          },
          "metadata": {
            "tags": []
          },
          "execution_count": 6
        },
        {
          "output_type": "display_data",
          "data": {
            "image/png": "[encoded data removed]",
            "text/plain": [
              "<Figure size 432x288 with 1 Axes>"
            ]
          },
          "metadata": {
            "tags": [],
            "needs_background": "light"
          }
        }
      ]
    },
    {
      "cell_type": "code",
      "metadata": {
        "colab": {
          "base_uri": "https://localhost:8080/",
          "height": 402
        },
        "id": "z9IiYmYaJ4gQ",
        "outputId": "adf26bb9-d199-4ccc-aad9-2fde79cf6cc4"
      },
      "source": [
        "df[df['Class']=='0']"
      ],
      "execution_count": null,
      "outputs": [
        {
          "output_type": "execute_result",
          "data": {
            "text/html": [
              "<div>\n",
              "<style scoped>\n",
              "    .dataframe tbody tr th:only-of-type {\n",
              "        vertical-align: middle;\n",
              "    }\n",
              "\n",
              "    .dataframe tbody tr th {\n",
              "        vertical-align: top;\n",
              "    }\n",
              "\n",
              "    .dataframe thead th {\n",
              "        text-align: right;\n",
              "    }\n",
              "</style>\n",
              "<table border=\"1\" class=\"dataframe\">\n",
              "  <thead>\n",
              "    <tr style=\"text-align: right;\">\n",
              "      <th></th>\n",
              "      <th>Class</th>\n",
              "      <th>Text</th>\n",
              "    </tr>\n",
              "  </thead>\n",
              "  <tbody>\n",
              "    <tr>\n",
              "      <th>42069</th>\n",
              "      <td>0</td>\n",
              "      <td>It's #WastefulWednesday! \\n\\nToday, I introduc...</td>\n",
              "    </tr>\n",
              "    <tr>\n",
              "      <th>42070</th>\n",
              "      <td>0</td>\n",
              "      <td>Today we honored all the heroic men &amp;amp; wome...</td>\n",
              "    </tr>\n",
              "    <tr>\n",
              "      <th>42071</th>\n",
              "      <td>0</td>\n",
              "      <td>RT @CongressmanRaja: Last week, @RepRalphNorma...</td>\n",
              "    </tr>\n",
              "    <tr>\n",
              "      <th>42072</th>\n",
              "      <td>0</td>\n",
              "      <td>RT @TegaCayPD: Chief Parker was thankful to re...</td>\n",
              "    </tr>\n",
              "    <tr>\n",
              "      <th>42073</th>\n",
              "      <td>0</td>\n",
              "      <td>I visited the SC Highway Patrol to bring them ...</td>\n",
              "    </tr>\n",
              "    <tr>\n",
              "      <th>...</th>\n",
              "      <td>...</td>\n",
              "      <td>...</td>\n",
              "    </tr>\n",
              "    <tr>\n",
              "      <th>86456</th>\n",
              "      <td>0</td>\n",
              "      <td>Check out my op-ed on need for End Executive O...</td>\n",
              "    </tr>\n",
              "    <tr>\n",
              "      <th>86457</th>\n",
              "      <td>0</td>\n",
              "      <td>Yesterday, Betty &amp;amp; I had a great time lear...</td>\n",
              "    </tr>\n",
              "    <tr>\n",
              "      <th>86458</th>\n",
              "      <td>0</td>\n",
              "      <td>We are forever grateful for the service and sa...</td>\n",
              "    </tr>\n",
              "    <tr>\n",
              "      <th>86459</th>\n",
              "      <td>0</td>\n",
              "      <td>Happy first day of school @CobbSchools! #CobbB...</td>\n",
              "    </tr>\n",
              "    <tr>\n",
              "      <th>86460</th>\n",
              "      <td>0</td>\n",
              "      <td>#Zika fears realized in Florida. House GOP act...</td>\n",
              "    </tr>\n",
              "  </tbody>\n",
              "</table>\n",
              "<p>44392 rows × 2 columns</p>\n",
              "</div>"
            ],
            "text/plain": [
              "      Class                                               Text\n",
              "42069     0  It's #WastefulWednesday! \\n\\nToday, I introduc...\n",
              "42070     0  Today we honored all the heroic men &amp; wome...\n",
              "42071     0  RT @CongressmanRaja: Last week, @RepRalphNorma...\n",
              "42072     0  RT @TegaCayPD: Chief Parker was thankful to re...\n",
              "42073     0  I visited the SC Highway Patrol to bring them ...\n",
              "...     ...                                                ...\n",
              "86456     0  Check out my op-ed on need for End Executive O...\n",
              "86457     0  Yesterday, Betty &amp; I had a great time lear...\n",
              "86458     0  We are forever grateful for the service and sa...\n",
              "86459     0  Happy first day of school @CobbSchools! #CobbB...\n",
              "86460     0  #Zika fears realized in Florida. House GOP act...\n",
              "\n",
              "[44392 rows x 2 columns]"
            ]
          },
          "metadata": {
            "tags": []
          },
          "execution_count": 7
        }
      ]
    },
    {
      "cell_type": "code",
      "metadata": {
        "colab": {
          "base_uri": "https://localhost:8080/",
          "height": 294
        },
        "id": "MfJR2RZ1Hjgw",
        "outputId": "5dc57c5a-6b6d-465d-9def-476c9915aeeb"
      },
      "source": [
        "import matplotlib.pyplot as plt\r\n",
        "fig,(axis1,axis2)=plt.subplots(1,2)\r\n",
        "char_len=df[df['Class']=='0']['Text'].str.len()\r\n",
        "axis1.hist(char_len,color='blue')\r\n",
        "axis1.set_title('class 0')\r\n",
        "char_len=df[df['Class']=='1']['Text'].str.len()\r\n",
        "axis2.hist(char_len,color='pink')\r\n",
        "axis2.set_title('class 1')\r\n",
        "fig.suptitle('characters in text')\r\n",
        "plt.show()\r\n"
      ],
      "execution_count": null,
      "outputs": [
        {
          "output_type": "display_data",
          "data": {
            "image/png": "[encoded data removed]",
            "text/plain": [
              "<Figure size 432x288 with 2 Axes>"
            ]
          },
          "metadata": {
            "tags": [],
            "needs_background": "light"
          }
        }
      ]
    },
    {
      "cell_type": "code",
      "metadata": {
        "colab": {
          "base_uri": "https://localhost:8080/",
          "height": 294
        },
        "id": "_hH5uezQLLLb",
        "outputId": "a2dab277-9b26-44e6-b166-7cc0ed9935b6"
      },
      "source": [
        "fig,(axis1,axis2)=plt.subplots(1,2)\r\n",
        "char_len=df[df['Class']=='0']['Text'].str.split().map(lambda x:len(x))\r\n",
        "axis1.hist(char_len,color='green')\r\n",
        "axis1.set_title('class 0')\r\n",
        "char_len=df[df['Class']=='1']['Text'].str.split().map(lambda x:len(x))\r\n",
        "axis2.hist(char_len,color='red')\r\n",
        "axis2.set_title('class 1')\r\n",
        "fig.suptitle('words in text')\r\n",
        "plt.show()"
      ],
      "execution_count": null,
      "outputs": [
        {
          "output_type": "display_data",
          "data": {
            "image/png": "[encoded data removed]",
            "text/plain": [
              "<Figure size 432x288 with 2 Axes>"
            ]
          },
          "metadata": {
            "tags": [],
            "needs_background": "light"
          }
        }
      ]
    },
    {
      "cell_type": "code",
      "metadata": {
        "id": "lhvRwScxNKsI"
      },
      "source": [
        "df['Class']=df['Class'].astype(int)"
      ],
      "execution_count": null,
      "outputs": []
    },
    {
      "cell_type": "code",
      "metadata": {
        "id": "lZxvaqr-Mwe9"
      },
      "source": [
        "def create_corpus(target):\r\n",
        "    corpus=[]\r\n",
        "    \r\n",
        "    for x in df[df['Class']==target]['Text'].str.split():\r\n",
        "        for i in x:\r\n",
        "            corpus.append(i)\r\n",
        "    return corpus"
      ],
      "execution_count": null,
      "outputs": []
    },
    {
      "cell_type": "code",
      "metadata": {
        "id": "D1991sgoNBgb"
      },
      "source": [
        "from nltk.util import ngrams\r\n",
        "from sklearn.feature_extraction.text import CountVectorizer\r\n"
      ],
      "execution_count": null,
      "outputs": []
    },
    {
      "cell_type": "code",
      "metadata": {
        "colab": {
          "base_uri": "https://localhost:8080/",
          "height": 337
        },
        "id": "lBvAVPMZLxQf",
        "outputId": "570f5c78-9d48-42ee-ccf4-8b684a877498"
      },
      "source": [
        "def get_top_bigrams(corpus, n=None):\r\n",
        "    vec = CountVectorizer(ngram_range=(2, 2)).fit(corpus)\r\n",
        "    bag_of_words = vec.transform(corpus)\r\n",
        "    sum_words = bag_of_words.sum(axis=0) \r\n",
        "    words_freq = [(word, sum_words[0, idx]) for word, idx in vec.vocabulary_.items()]\r\n",
        "    words_freq =sorted(words_freq, key = lambda x: x[1], reverse=True)\r\n",
        "    return words_freq[:n]\r\n",
        "plt.figure(figsize=(10,5))\r\n",
        "top_bigrams=get_top_bigrams(df['Text'])[:10]\r\n",
        "x,y=map(list,zip(*top_bigrams))\r\n",
        "sns.barplot(x=y,y=x)"
      ],
      "execution_count": null,
      "outputs": [
        {
          "output_type": "execute_result",
          "data": {
            "text/plain": [
              "<matplotlib.axes._subplots.AxesSubplot at 0x7f10b8347048>"
            ]
          },
          "metadata": {
            "tags": []
          },
          "execution_count": 13
        },
        {
          "output_type": "display_data",
          "data": {
            "image/png": "[encoded data removed]",
            "text/plain": [
              "<Figure size 720x360 with 1 Axes>"
            ]
          },
          "metadata": {
            "tags": [],
            "needs_background": "light"
          }
        }
      ]
    },
    {
      "cell_type": "code",
      "metadata": {
        "id": "FErHvo9DPPk-"
      },
      "source": [
        "import re\r\n",
        "def remove_URL(text):\r\n",
        "    url = re.compile(r'https?://\\S+|www\\.\\S+')\r\n",
        "    return url.sub(r'',text)\r\n",
        "df['Text']=df['Text'].apply(lambda x : remove_URL(x))"
      ],
      "execution_count": null,
      "outputs": []
    },
    {
      "cell_type": "code",
      "metadata": {
        "id": "sHyuuI0VPgET"
      },
      "source": [
        "def remove_emoji(text):\r\n",
        "    emoji_pattern = re.compile(\"[\"\r\n",
        "                           u\"\\U0001F600-\\U0001F64F\"  # emoticons\r\n",
        "                           u\"\\U0001F300-\\U0001F5FF\"  # symbols & pictographs\r\n",
        "                           u\"\\U0001F680-\\U0001F6FF\"  # transport & map symbols\r\n",
        "                           u\"\\U0001F1E0-\\U0001F1FF\"  # flags (iOS)\r\n",
        "                           u\"\\U00002702-\\U000027B0\"\r\n",
        "                           u\"\\U000024C2-\\U0001F251\"\r\n",
        "                           \"]+\", flags=re.UNICODE)\r\n",
        "    return emoji_pattern.sub(r'', text)\r\n",
        "df['Text']=df['Text'].apply(lambda x: remove_emoji(x))    "
      ],
      "execution_count": null,
      "outputs": []
    },
    {
      "cell_type": "code",
      "metadata": {
        "id": "FoOjI0xAPp6k"
      },
      "source": [
        "import string\r\n",
        "def remove_punct(text):\r\n",
        "    table=str.maketrans('','',string.punctuation)\r\n",
        "    return text.translate(table)\r\n",
        "df['Text']=df['Text'].apply(lambda x : remove_punct(x))"
      ],
      "execution_count": null,
      "outputs": []
    },
    {
      "cell_type": "code",
      "metadata": {
        "colab": {
          "base_uri": "https://localhost:8080/"
        },
        "id": "B8EyiDzenNVN",
        "outputId": "f2e5721b-b987-424c-a569-422374d698b8"
      },
      "source": [
        "import nltk\r\n",
        "nltk.download('stopwords')\r\n",
        "nltk.download('punkt')"
      ],
      "execution_count": null,
      "outputs": [
        {
          "output_type": "stream",
          "text": [
            "[nltk_data] Downloading package stopwords to /root/nltk_data...\n",
            "[nltk_data]   Unzipping corpora/stopwords.zip.\n",
            "[nltk_data] Downloading package punkt to /root/nltk_data...\n",
            "[nltk_data]   Unzipping tokenizers/punkt.zip.\n"
          ],
          "name": "stdout"
        },
        {
          "output_type": "execute_result",
          "data": {
            "text/plain": [
              "True"
            ]
          },
          "metadata": {
            "tags": []
          },
          "execution_count": 18
        }
      ]
    },
    {
      "cell_type": "code",
      "metadata": {
        "colab": {
          "base_uri": "https://localhost:8080/"
        },
        "id": "7dcv_NKoRCDw",
        "outputId": "9c6dface-9029-4bf8-f592-4cad93532dfc"
      },
      "source": [
        "from nltk.corpus import stopwords\r\n",
        "stop=set(stopwords.words('english'))\r\n",
        "corpus=create_corpus(df)\r\n"
      ],
      "execution_count": null,
      "outputs": [
        {
          "output_type": "stream",
          "text": [
            "100%|██████████| 86460/86460 [00:11<00:00, 7497.81it/s]\n"
          ],
          "name": "stderr"
        }
      ]
    },
    {
      "cell_type": "code",
      "metadata": {
        "colab": {
          "base_uri": "https://localhost:8080/"
        },
        "id": "ESCzchMFvr8w",
        "outputId": "9baa734b-43ad-4325-cd30-d4c13642edd8"
      },
      "source": [
        "print(corpus[:10])"
      ],
      "execution_count": null,
      "outputs": [
        {
          "output_type": "stream",
          "text": [
            "[['today', 'senate', 'dems', 'vote', 'savetheinternet', 'proud', 'support', 'similar', 'netneutrality', 'legislation'], ['rt', 'winterhavensun', 'winter', 'haven', 'resident', 'alta', 'vista', 'teacher', 'one', 'several', 'recognized', 'repdarrensoto', 'national', 'teacher'], ['rt', 'nbclatino', 'repdarrensoto', 'noted', 'hurricane', 'maria', 'left', 'approximately', 'billion', 'damages', 'congress', 'allocated'], ['rt', 'nalcabpolicy', 'meeting', 'repdarrensoto', 'thanks', 'taking', 'time', 'meet', 'latinoleader', 'ed', 'marucci', 'guzman'], ['rt', 'vegalteno', 'hurricane', 'season', 'starts', 'june', 'puerto', 'rico', 'readinesswell', 'repdarrensoto', 'espaillatny'], ['rt', 'emgageactionfl', 'thank', 'came', 'orlando', 'gala', 'it', 'successful', 'night', 'would', 'possible'], ['hurricane', 'maria', 'left', 'approx', 'billion', 'damages', 'yet', 'billion', 'allocated', 'rebuilding', 'grid', 'no'], ['rt', 'tharryry', 'i', 'delighted', 'repdarrensoto', 'voting', 'cra', 'overrule', 'fcc', 'save', 'netneutrality', 'rules', 'find'], ['rt', 'hispaniccaucus', 'trumps', 'antiimmigrant', 'policies', 'hurting', 'small', 'businesses', 'across', 'country', 'find', 'americans', 'willing'], ['rt', 'repstephmurphy', 'great', 'joining', 'weareunidosus', 'repdarrensoto', 'roundtable', 'orlando', 'federal', 'issues', 'affecting', 'central']]\n"
          ],
          "name": "stdout"
        }
      ]
    },
    {
      "cell_type": "code",
      "metadata": {
        "colab": {
          "base_uri": "https://localhost:8080/"
        },
        "id": "dS87lz6XTA41",
        "outputId": "675343b0-fdeb-41b3-8d00-5265120861e9"
      },
      "source": [
        "!wget http://nlp.stanford.edu/data/glove.6B.zip\r\n",
        "!unzip -q glove.6B.zip"
      ],
      "execution_count": null,
      "outputs": [
        {
          "output_type": "stream",
          "text": [
            "--2021-01-07 08:16:17--  http://nlp.stanford.edu/data/glove.6B.zip\n",
            "Resolving nlp.stanford.edu (nlp.stanford.edu)... 171.64.67.140\n",
            "Connecting to nlp.stanford.edu (nlp.stanford.edu)|171.64.67.140|:80... connected.\n",
            "HTTP request sent, awaiting response... 302 Found\n",
            "Location: https://nlp.stanford.edu/data/glove.6B.zip [following]\n",
            "--2021-01-07 08:16:17--  https://nlp.stanford.edu/data/glove.6B.zip\n",
            "Connecting to nlp.stanford.edu (nlp.stanford.edu)|171.64.67.140|:443... connected.\n",
            "HTTP request sent, awaiting response... 301 Moved Permanently\n",
            "Location: http://downloads.cs.stanford.edu/nlp/data/glove.6B.zip [following]\n",
            "--2021-01-07 08:16:17--  http://downloads.cs.stanford.edu/nlp/data/glove.6B.zip\n",
            "Resolving downloads.cs.stanford.edu (downloads.cs.stanford.edu)... 171.64.64.22\n",
            "Connecting to downloads.cs.stanford.edu (downloads.cs.stanford.edu)|171.64.64.22|:80... connected.\n",
            "HTTP request sent, awaiting response... 200 OK\n",
            "Length: 862182613 (822M) [application/zip]\n",
            "Saving to: ‘glove.6B.zip’\n",
            "\n",
            "glove.6B.zip        100%[===================>] 822.24M  2.27MB/s    in 6m 29s  \n",
            "\n",
            "2021-01-07 08:22:47 (2.11 MB/s) - ‘glove.6B.zip’ saved [862182613/862182613]\n",
            "\n"
          ],
          "name": "stdout"
        }
      ]
    },
    {
      "cell_type": "code",
      "metadata": {
        "colab": {
          "base_uri": "https://localhost:8080/"
        },
        "id": "TGvR-dk7U7SM",
        "outputId": "68bf8dc3-5d61-49b7-af18-eb8bc4040a41"
      },
      "source": [
        "!ls"
      ],
      "execution_count": null,
      "outputs": [
        {
          "output_type": "stream",
          "text": [
            " CVAssignmentDataset.csv   glove.6B.300d.txt   LICENSE\n",
            " glove.6B.100d.txt\t   glove.6B.50d.txt   'Model Architecture.png'\n",
            " glove.6B.200d.txt\t   glove.6B.zip        README.md\n"
          ],
          "name": "stdout"
        }
      ]
    },
    {
      "cell_type": "code",
      "metadata": {
        "id": "iQw0HlI93YLq"
      },
      "source": [
        "from sklearn.model_selection import train_test_split\r\n",
        "x_train,x_test,y_train,y_test=train_test_split(df['Text'],df['Class'],test_size=0.2)"
      ],
      "execution_count": null,
      "outputs": []
    },
    {
      "cell_type": "code",
      "metadata": {
        "colab": {
          "base_uri": "https://localhost:8080/"
        },
        "id": "CXXdZBhE1-G0",
        "outputId": "6e9ecc32-f4ee-410a-b712-1b3b2a659032"
      },
      "source": [
        "from keras.preprocessing.text import Tokenizer\r\n",
        "from keras.preprocessing.sequence import pad_sequences\r\n",
        "import numpy as np\r\n",
        "token = Tokenizer()\r\n",
        "token.fit_on_texts(x_train)\r\n",
        "seq = token.texts_to_sequences(x_train)\r\n",
        "pad_seq = pad_sequences(seq,maxlen=50)\r\n",
        "vocab_size = len(token.word_index)+1\r\n",
        "embedding_vector = {}\r\n",
        "f = open('glove.6B.50d.txt')\r\n",
        "for line in tqdm(f):\r\n",
        "    value = line.split(' ')\r\n",
        "    word = value[0]\r\n",
        "    coef = np.array(value[1:],dtype = 'float32')\r\n",
        "    embedding_vector[word] = coef\r\n",
        "embedding_matrix = np.zeros((vocab_size,50))\r\n",
        "for word,i in tqdm(token.word_index.items()):\r\n",
        "    embedding_value = embedding_vector.get(word)\r\n",
        "    if embedding_value is not None:\r\n",
        "        embedding_matrix[i] = embedding_value\r\n"
      ],
      "execution_count": null,
      "outputs": [
        {
          "output_type": "stream",
          "text": [
            "400000it [00:05, 78659.71it/s]\n",
            "100%|██████████| 67619/67619 [00:00<00:00, 842736.80it/s]\n"
          ],
          "name": "stderr"
        }
      ]
    },
    {
      "cell_type": "code",
      "metadata": {
        "colab": {
          "base_uri": "https://localhost:8080/",
          "height": 320
        },
        "id": "Kah2uUrY5FJR",
        "outputId": "1c56f77d-bced-4ab8-9e6b-f00a6c57f0e9"
      },
      "source": [
        "x_test = token.texts_to_sequences(x_test)\r\n",
        "testing_seq = pad_sequences(x_test,maxlen=50)\r\n"
      ],
      "execution_count": null,
      "outputs": [
        {
          "output_type": "error",
          "ename": "AttributeError",
          "evalue": "ignored",
          "traceback": [
            "\u001b[0;31m---------------------------------------------------------------------------\u001b[0m",
            "\u001b[0;31mAttributeError\u001b[0m                            Traceback (most recent call last)",
            "\u001b[0;32m<ipython-input-74-2a9bc90e27a5>\u001b[0m in \u001b[0;36m<module>\u001b[0;34m()\u001b[0m\n\u001b[0;32m----> 1\u001b[0;31m \u001b[0mx_test\u001b[0m \u001b[0;34m=\u001b[0m \u001b[0mtoken\u001b[0m\u001b[0;34m.\u001b[0m\u001b[0mtexts_to_sequences\u001b[0m\u001b[0;34m(\u001b[0m\u001b[0mx_test\u001b[0m\u001b[0;34m)\u001b[0m\u001b[0;34m\u001b[0m\u001b[0;34m\u001b[0m\u001b[0m\n\u001b[0m\u001b[1;32m      2\u001b[0m \u001b[0mtesting_seq\u001b[0m \u001b[0;34m=\u001b[0m \u001b[0mpad_sequences\u001b[0m\u001b[0;34m(\u001b[0m\u001b[0mx_test\u001b[0m\u001b[0;34m,\u001b[0m\u001b[0mmaxlen\u001b[0m\u001b[0;34m=\u001b[0m\u001b[0;36m50\u001b[0m\u001b[0;34m)\u001b[0m\u001b[0;34m\u001b[0m\u001b[0;34m\u001b[0m\u001b[0m\n",
            "\u001b[0;32m/usr/local/lib/python3.6/dist-packages/keras_preprocessing/text.py\u001b[0m in \u001b[0;36mtexts_to_sequences\u001b[0;34m(self, texts)\u001b[0m\n\u001b[1;32m    279\u001b[0m             \u001b[0mA\u001b[0m \u001b[0mlist\u001b[0m \u001b[0mof\u001b[0m \u001b[0msequences\u001b[0m\u001b[0;34m.\u001b[0m\u001b[0;34m\u001b[0m\u001b[0;34m\u001b[0m\u001b[0m\n\u001b[1;32m    280\u001b[0m         \"\"\"\n\u001b[0;32m--> 281\u001b[0;31m         \u001b[0;32mreturn\u001b[0m \u001b[0mlist\u001b[0m\u001b[0;34m(\u001b[0m\u001b[0mself\u001b[0m\u001b[0;34m.\u001b[0m\u001b[0mtexts_to_sequences_generator\u001b[0m\u001b[0;34m(\u001b[0m\u001b[0mtexts\u001b[0m\u001b[0;34m)\u001b[0m\u001b[0;34m)\u001b[0m\u001b[0;34m\u001b[0m\u001b[0;34m\u001b[0m\u001b[0m\n\u001b[0m\u001b[1;32m    282\u001b[0m \u001b[0;34m\u001b[0m\u001b[0m\n\u001b[1;32m    283\u001b[0m     \u001b[0;32mdef\u001b[0m \u001b[0mtexts_to_sequences_generator\u001b[0m\u001b[0;34m(\u001b[0m\u001b[0mself\u001b[0m\u001b[0;34m,\u001b[0m \u001b[0mtexts\u001b[0m\u001b[0;34m)\u001b[0m\u001b[0;34m:\u001b[0m\u001b[0;34m\u001b[0m\u001b[0;34m\u001b[0m\u001b[0m\n",
            "\u001b[0;32m/usr/local/lib/python3.6/dist-packages/keras_preprocessing/text.py\u001b[0m in \u001b[0;36mtexts_to_sequences_generator\u001b[0;34m(self, texts)\u001b[0m\n\u001b[1;32m    302\u001b[0m                 \u001b[0;32mif\u001b[0m \u001b[0mself\u001b[0m\u001b[0;34m.\u001b[0m\u001b[0mlower\u001b[0m\u001b[0;34m:\u001b[0m\u001b[0;34m\u001b[0m\u001b[0;34m\u001b[0m\u001b[0m\n\u001b[1;32m    303\u001b[0m                     \u001b[0;32mif\u001b[0m \u001b[0misinstance\u001b[0m\u001b[0;34m(\u001b[0m\u001b[0mtext\u001b[0m\u001b[0;34m,\u001b[0m \u001b[0mlist\u001b[0m\u001b[0;34m)\u001b[0m\u001b[0;34m:\u001b[0m\u001b[0;34m\u001b[0m\u001b[0;34m\u001b[0m\u001b[0m\n\u001b[0;32m--> 304\u001b[0;31m                         \u001b[0mtext\u001b[0m \u001b[0;34m=\u001b[0m \u001b[0;34m[\u001b[0m\u001b[0mtext_elem\u001b[0m\u001b[0;34m.\u001b[0m\u001b[0mlower\u001b[0m\u001b[0;34m(\u001b[0m\u001b[0;34m)\u001b[0m \u001b[0;32mfor\u001b[0m \u001b[0mtext_elem\u001b[0m \u001b[0;32min\u001b[0m \u001b[0mtext\u001b[0m\u001b[0;34m]\u001b[0m\u001b[0;34m\u001b[0m\u001b[0;34m\u001b[0m\u001b[0m\n\u001b[0m\u001b[1;32m    305\u001b[0m                     \u001b[0;32melse\u001b[0m\u001b[0;34m:\u001b[0m\u001b[0;34m\u001b[0m\u001b[0;34m\u001b[0m\u001b[0m\n\u001b[1;32m    306\u001b[0m                         \u001b[0mtext\u001b[0m \u001b[0;34m=\u001b[0m \u001b[0mtext\u001b[0m\u001b[0;34m.\u001b[0m\u001b[0mlower\u001b[0m\u001b[0;34m(\u001b[0m\u001b[0;34m)\u001b[0m\u001b[0;34m\u001b[0m\u001b[0;34m\u001b[0m\u001b[0m\n",
            "\u001b[0;32m/usr/local/lib/python3.6/dist-packages/keras_preprocessing/text.py\u001b[0m in \u001b[0;36m<listcomp>\u001b[0;34m(.0)\u001b[0m\n\u001b[1;32m    302\u001b[0m                 \u001b[0;32mif\u001b[0m \u001b[0mself\u001b[0m\u001b[0;34m.\u001b[0m\u001b[0mlower\u001b[0m\u001b[0;34m:\u001b[0m\u001b[0;34m\u001b[0m\u001b[0;34m\u001b[0m\u001b[0m\n\u001b[1;32m    303\u001b[0m                     \u001b[0;32mif\u001b[0m \u001b[0misinstance\u001b[0m\u001b[0;34m(\u001b[0m\u001b[0mtext\u001b[0m\u001b[0;34m,\u001b[0m \u001b[0mlist\u001b[0m\u001b[0;34m)\u001b[0m\u001b[0;34m:\u001b[0m\u001b[0;34m\u001b[0m\u001b[0;34m\u001b[0m\u001b[0m\n\u001b[0;32m--> 304\u001b[0;31m                         \u001b[0mtext\u001b[0m \u001b[0;34m=\u001b[0m \u001b[0;34m[\u001b[0m\u001b[0mtext_elem\u001b[0m\u001b[0;34m.\u001b[0m\u001b[0mlower\u001b[0m\u001b[0;34m(\u001b[0m\u001b[0;34m)\u001b[0m \u001b[0;32mfor\u001b[0m \u001b[0mtext_elem\u001b[0m \u001b[0;32min\u001b[0m \u001b[0mtext\u001b[0m\u001b[0;34m]\u001b[0m\u001b[0;34m\u001b[0m\u001b[0;34m\u001b[0m\u001b[0m\n\u001b[0m\u001b[1;32m    305\u001b[0m                     \u001b[0;32melse\u001b[0m\u001b[0;34m:\u001b[0m\u001b[0;34m\u001b[0m\u001b[0;34m\u001b[0m\u001b[0m\n\u001b[1;32m    306\u001b[0m                         \u001b[0mtext\u001b[0m \u001b[0;34m=\u001b[0m \u001b[0mtext\u001b[0m\u001b[0;34m.\u001b[0m\u001b[0mlower\u001b[0m\u001b[0;34m(\u001b[0m\u001b[0;34m)\u001b[0m\u001b[0;34m\u001b[0m\u001b[0;34m\u001b[0m\u001b[0m\n",
            "\u001b[0;31mAttributeError\u001b[0m: 'int' object has no attribute 'lower'"
          ]
        }
      ]
    },
    {
      "cell_type": "code",
      "metadata": {
        "id": "-aeYiZKlV92I"
      },
      "source": [
        "from keras.models import Sequential\r\n",
        "from keras.layers import Embedding,LSTM,Dense,Conv1D,MaxPool1D,Bidirectional,Dropout,Reshape,SpatialDropout1D\r\n",
        "from keras.initializers import Constant"
      ],
      "execution_count": null,
      "outputs": []
    },
    {
      "cell_type": "code",
      "metadata": {
        "id": "7UKtYCxc58lj"
      },
      "source": [
        "model = Sequential()\r\n",
        "model.add(Embedding(vocab_size,50,weights = [embedding_matrix],input_length=50,trainable = False))\r\n",
        "model.add(Conv1D(filters=32, kernel_size=5,padding='same'))\r\n",
        "model.add(MaxPool1D(pool_size=2))\r\n",
        "model.add(Dropout(0.3))\r\n",
        "model.add((LSTM(512)))\r\n",
        "model.add(Dropout(0.3))\r\n",
        "model.add(Dense(1024, activation='relu'))\r\n",
        "model.add(Dropout(0.3))\r\n",
        "model.add(Dense(512, activation='relu'))\r\n",
        "model.add(Dropout(0.3))\r\n",
        "model.add(Dense(1,activation = 'sigmoid'))\r\n",
        "model.compile(optimizer='adam',loss='binary_crossentropy',metrics = ['accuracy'])\r\n"
      ],
      "execution_count": 105,
      "outputs": []
    },
    {
      "cell_type": "code",
      "metadata": {
        "colab": {
          "base_uri": "https://localhost:8080/"
        },
        "id": "alGg-TEW3MUS",
        "outputId": "a67f68e7-843b-424b-ce9e-7999cc4dc47f"
      },
      "source": [
        "model.summary()"
      ],
      "execution_count": 106,
      "outputs": [
        {
          "output_type": "stream",
          "text": [
            "Model: \"sequential_8\"\n",
            "_________________________________________________________________\n",
            "Layer (type)                 Output Shape              Param #   \n",
            "=================================================================\n",
            "embedding_8 (Embedding)      (None, 50, 50)            3381000   \n",
            "_________________________________________________________________\n",
            "conv1d_8 (Conv1D)            (None, 50, 32)            8032      \n",
            "_________________________________________________________________\n",
            "max_pooling1d_8 (MaxPooling1 (None, 25, 32)            0         \n",
            "_________________________________________________________________\n",
            "dropout_27 (Dropout)         (None, 25, 32)            0         \n",
            "_________________________________________________________________\n",
            "lstm_13 (LSTM)               (None, 512)               1116160   \n",
            "_________________________________________________________________\n",
            "dropout_28 (Dropout)         (None, 512)               0         \n",
            "_________________________________________________________________\n",
            "dense_18 (Dense)             (None, 1024)              525312    \n",
            "_________________________________________________________________\n",
            "dropout_29 (Dropout)         (None, 1024)              0         \n",
            "_________________________________________________________________\n",
            "dense_19 (Dense)             (None, 512)               524800    \n",
            "_________________________________________________________________\n",
            "dropout_30 (Dropout)         (None, 512)               0         \n",
            "_________________________________________________________________\n",
            "dense_20 (Dense)             (None, 1)                 513       \n",
            "=================================================================\n",
            "Total params: 5,555,817\n",
            "Trainable params: 2,174,817\n",
            "Non-trainable params: 3,381,000\n",
            "_________________________________________________________________\n"
          ],
          "name": "stdout"
        }
      ]
    },
    {
      "cell_type": "code",
      "metadata": {
        "colab": {
          "base_uri": "https://localhost:8080/",
          "height": 1000
        },
        "id": "unSs1_yz6loX",
        "outputId": "cd8271ed-389a-4b52-d801-3b32c28ec0c7"
      },
      "source": [
        "from tensorflow.keras.utils import plot_model\r\n",
        "plot_model(model, to_file='model_plot4a.png', show_shapes=True, show_layer_names=True)"
      ],
      "execution_count": 107,
      "outputs": [
        {
          "output_type": "execute_result",
          "data": {
            "image/png": "[encoded data removed]",
            "text/plain": [
              "<IPython.core.display.Image object>"
            ]
          },
          "metadata": {
            "tags": []
          },
          "execution_count": 107
        }
      ]
    },
    {
      "cell_type": "code",
      "metadata": {
        "colab": {
          "base_uri": "https://localhost:8080/"
        },
        "id": "94IKE6Xl_GeR",
        "outputId": "b2c00b13-1cc8-4030-9b50-32e62dc51eb6"
      },
      "source": [
        "history = model.fit(pad_seq,y_train,batch_size=64,epochs=50,validation_split=0.2,verbose=2)"
      ],
      "execution_count": 108,
      "outputs": [
        {
          "output_type": "stream",
          "text": [
            "Epoch 1/50\n",
            "865/865 - 8s - loss: 0.6703 - accuracy: 0.5899 - val_loss: 0.6582 - val_accuracy: 0.6023\n",
            "Epoch 2/50\n",
            "865/865 - 6s - loss: 0.6484 - accuracy: 0.6224 - val_loss: 0.6571 - val_accuracy: 0.5975\n",
            "Epoch 3/50\n",
            "865/865 - 7s - loss: 0.6367 - accuracy: 0.6346 - val_loss: 0.6347 - val_accuracy: 0.6319\n",
            "Epoch 4/50\n",
            "865/865 - 7s - loss: 0.6240 - accuracy: 0.6477 - val_loss: 0.6214 - val_accuracy: 0.6517\n",
            "Epoch 5/50\n",
            "865/865 - 6s - loss: 0.6123 - accuracy: 0.6573 - val_loss: 0.6165 - val_accuracy: 0.6553\n",
            "Epoch 6/50\n",
            "865/865 - 6s - loss: 0.6047 - accuracy: 0.6621 - val_loss: 0.6114 - val_accuracy: 0.6638\n",
            "Epoch 7/50\n",
            "865/865 - 6s - loss: 0.5958 - accuracy: 0.6719 - val_loss: 0.6139 - val_accuracy: 0.6626\n",
            "Epoch 8/50\n",
            "865/865 - 6s - loss: 0.5877 - accuracy: 0.6785 - val_loss: 0.6054 - val_accuracy: 0.6673\n",
            "Epoch 9/50\n",
            "865/865 - 6s - loss: 0.5781 - accuracy: 0.6854 - val_loss: 0.6057 - val_accuracy: 0.6690\n",
            "Epoch 10/50\n",
            "865/865 - 6s - loss: 0.5696 - accuracy: 0.6915 - val_loss: 0.6183 - val_accuracy: 0.6590\n",
            "Epoch 11/50\n",
            "865/865 - 6s - loss: 0.5575 - accuracy: 0.7005 - val_loss: 0.6005 - val_accuracy: 0.6718\n",
            "Epoch 12/50\n",
            "865/865 - 6s - loss: 0.5462 - accuracy: 0.7110 - val_loss: 0.6091 - val_accuracy: 0.6640\n",
            "Epoch 13/50\n",
            "865/865 - 6s - loss: 0.5369 - accuracy: 0.7162 - val_loss: 0.6141 - val_accuracy: 0.6645\n",
            "Epoch 14/50\n",
            "865/865 - 6s - loss: 0.5251 - accuracy: 0.7251 - val_loss: 0.6194 - val_accuracy: 0.6703\n",
            "Epoch 15/50\n",
            "865/865 - 6s - loss: 0.5136 - accuracy: 0.7320 - val_loss: 0.6171 - val_accuracy: 0.6665\n",
            "Epoch 16/50\n",
            "865/865 - 6s - loss: 0.5017 - accuracy: 0.7417 - val_loss: 0.6345 - val_accuracy: 0.6694\n",
            "Epoch 17/50\n",
            "865/865 - 6s - loss: 0.4894 - accuracy: 0.7520 - val_loss: 0.6263 - val_accuracy: 0.6712\n",
            "Epoch 18/50\n",
            "865/865 - 6s - loss: 0.4748 - accuracy: 0.7603 - val_loss: 0.6190 - val_accuracy: 0.6696\n",
            "Epoch 19/50\n",
            "865/865 - 6s - loss: 0.4678 - accuracy: 0.7672 - val_loss: 0.6933 - val_accuracy: 0.6634\n",
            "Epoch 20/50\n",
            "865/865 - 6s - loss: 0.4571 - accuracy: 0.7716 - val_loss: 0.6435 - val_accuracy: 0.6640\n",
            "Epoch 21/50\n",
            "865/865 - 6s - loss: 0.4459 - accuracy: 0.7806 - val_loss: 0.6499 - val_accuracy: 0.6589\n",
            "Epoch 22/50\n",
            "865/865 - 6s - loss: 0.4382 - accuracy: 0.7874 - val_loss: 0.6587 - val_accuracy: 0.6607\n",
            "Epoch 23/50\n",
            "865/865 - 6s - loss: 0.4296 - accuracy: 0.7899 - val_loss: 0.6711 - val_accuracy: 0.6627\n",
            "Epoch 24/50\n",
            "865/865 - 6s - loss: 0.4190 - accuracy: 0.7977 - val_loss: 0.6788 - val_accuracy: 0.6532\n",
            "Epoch 25/50\n",
            "865/865 - 6s - loss: 0.4125 - accuracy: 0.8031 - val_loss: 0.7235 - val_accuracy: 0.6615\n",
            "Epoch 26/50\n",
            "865/865 - 6s - loss: 0.4049 - accuracy: 0.8057 - val_loss: 0.7302 - val_accuracy: 0.6604\n",
            "Epoch 27/50\n",
            "865/865 - 6s - loss: 0.3996 - accuracy: 0.8106 - val_loss: 0.6751 - val_accuracy: 0.6636\n",
            "Epoch 28/50\n",
            "865/865 - 6s - loss: 0.3924 - accuracy: 0.8177 - val_loss: 0.7001 - val_accuracy: 0.6590\n",
            "Epoch 29/50\n",
            "865/865 - 6s - loss: 0.3882 - accuracy: 0.8188 - val_loss: 0.8192 - val_accuracy: 0.6644\n",
            "Epoch 30/50\n",
            "865/865 - 6s - loss: 0.3772 - accuracy: 0.8231 - val_loss: 0.7506 - val_accuracy: 0.6529\n",
            "Epoch 31/50\n",
            "865/865 - 6s - loss: 0.3719 - accuracy: 0.8277 - val_loss: 0.7081 - val_accuracy: 0.6530\n",
            "Epoch 32/50\n",
            "865/865 - 6s - loss: 0.3661 - accuracy: 0.8296 - val_loss: 0.7014 - val_accuracy: 0.6595\n",
            "Epoch 33/50\n",
            "865/865 - 7s - loss: 0.3641 - accuracy: 0.8330 - val_loss: 0.7320 - val_accuracy: 0.6596\n",
            "Epoch 34/50\n",
            "865/865 - 6s - loss: 0.3602 - accuracy: 0.8350 - val_loss: 0.7018 - val_accuracy: 0.6592\n",
            "Epoch 35/50\n",
            "865/865 - 6s - loss: 0.3558 - accuracy: 0.8387 - val_loss: 0.7178 - val_accuracy: 0.6582\n",
            "Epoch 36/50\n",
            "865/865 - 6s - loss: 0.3484 - accuracy: 0.8426 - val_loss: 0.8166 - val_accuracy: 0.6532\n",
            "Epoch 37/50\n",
            "865/865 - 6s - loss: 0.3440 - accuracy: 0.8462 - val_loss: 0.8066 - val_accuracy: 0.6597\n",
            "Epoch 38/50\n",
            "865/865 - 6s - loss: 0.3386 - accuracy: 0.8482 - val_loss: 0.8104 - val_accuracy: 0.6514\n",
            "Epoch 39/50\n",
            "865/865 - 6s - loss: 0.3402 - accuracy: 0.8455 - val_loss: 0.7284 - val_accuracy: 0.6595\n",
            "Epoch 40/50\n",
            "865/865 - 6s - loss: 0.3326 - accuracy: 0.8503 - val_loss: 0.8351 - val_accuracy: 0.6569\n",
            "Epoch 41/50\n",
            "865/865 - 6s - loss: 0.3273 - accuracy: 0.8557 - val_loss: 0.8606 - val_accuracy: 0.6579\n",
            "Epoch 42/50\n",
            "865/865 - 6s - loss: 0.3264 - accuracy: 0.8550 - val_loss: 0.7738 - val_accuracy: 0.6595\n",
            "Epoch 43/50\n",
            "865/865 - 6s - loss: 0.3201 - accuracy: 0.8577 - val_loss: 0.7666 - val_accuracy: 0.6585\n",
            "Epoch 44/50\n",
            "865/865 - 6s - loss: 0.3204 - accuracy: 0.8595 - val_loss: 0.8431 - val_accuracy: 0.6532\n",
            "Epoch 45/50\n",
            "865/865 - 6s - loss: 0.3178 - accuracy: 0.8589 - val_loss: 0.8169 - val_accuracy: 0.6582\n",
            "Epoch 46/50\n",
            "865/865 - 6s - loss: 0.3153 - accuracy: 0.8610 - val_loss: 0.7633 - val_accuracy: 0.6615\n",
            "Epoch 47/50\n",
            "865/865 - 6s - loss: 0.3158 - accuracy: 0.8624 - val_loss: 0.8862 - val_accuracy: 0.6610\n",
            "Epoch 48/50\n",
            "865/865 - 6s - loss: 0.3088 - accuracy: 0.8664 - val_loss: 0.7922 - val_accuracy: 0.6543\n",
            "Epoch 49/50\n",
            "865/865 - 6s - loss: 0.3080 - accuracy: 0.8653 - val_loss: 0.7720 - val_accuracy: 0.6629\n",
            "Epoch 50/50\n",
            "865/865 - 6s - loss: 0.3076 - accuracy: 0.8662 - val_loss: 0.8223 - val_accuracy: 0.6541\n"
          ],
          "name": "stdout"
        }
      ]
    },
    {
      "cell_type": "code",
      "metadata": {
        "id": "d0s5bzDXBEO_"
      },
      "source": [
        "y_pred=model.predict(testing_seq)\r\n",
        "model_loss = pd.DataFrame(history.history)"
      ],
      "execution_count": 109,
      "outputs": []
    },
    {
      "cell_type": "code",
      "metadata": {
        "colab": {
          "base_uri": "https://localhost:8080/",
          "height": 195
        },
        "id": "3inaAaxlDEXs",
        "outputId": "fdfe70f5-4714-4849-9a5c-e4f4309651cc"
      },
      "source": [
        "model_loss.head()"
      ],
      "execution_count": 110,
      "outputs": [
        {
          "output_type": "execute_result",
          "data": {
            "text/html": [
              "<div>\n",
              "<style scoped>\n",
              "    .dataframe tbody tr th:only-of-type {\n",
              "        vertical-align: middle;\n",
              "    }\n",
              "\n",
              "    .dataframe tbody tr th {\n",
              "        vertical-align: top;\n",
              "    }\n",
              "\n",
              "    .dataframe thead th {\n",
              "        text-align: right;\n",
              "    }\n",
              "</style>\n",
              "<table border=\"1\" class=\"dataframe\">\n",
              "  <thead>\n",
              "    <tr style=\"text-align: right;\">\n",
              "      <th></th>\n",
              "      <th>loss</th>\n",
              "      <th>accuracy</th>\n",
              "      <th>val_loss</th>\n",
              "      <th>val_accuracy</th>\n",
              "    </tr>\n",
              "  </thead>\n",
              "  <tbody>\n",
              "    <tr>\n",
              "      <th>0</th>\n",
              "      <td>0.670256</td>\n",
              "      <td>0.589909</td>\n",
              "      <td>0.658245</td>\n",
              "      <td>0.602284</td>\n",
              "    </tr>\n",
              "    <tr>\n",
              "      <th>1</th>\n",
              "      <td>0.648403</td>\n",
              "      <td>0.622438</td>\n",
              "      <td>0.657124</td>\n",
              "      <td>0.597513</td>\n",
              "    </tr>\n",
              "    <tr>\n",
              "      <th>2</th>\n",
              "      <td>0.636690</td>\n",
              "      <td>0.634619</td>\n",
              "      <td>0.634725</td>\n",
              "      <td>0.631921</td>\n",
              "    </tr>\n",
              "    <tr>\n",
              "      <th>3</th>\n",
              "      <td>0.624021</td>\n",
              "      <td>0.647739</td>\n",
              "      <td>0.621432</td>\n",
              "      <td>0.651728</td>\n",
              "    </tr>\n",
              "    <tr>\n",
              "      <th>4</th>\n",
              "      <td>0.612273</td>\n",
              "      <td>0.657335</td>\n",
              "      <td>0.616486</td>\n",
              "      <td>0.655270</td>\n",
              "    </tr>\n",
              "  </tbody>\n",
              "</table>\n",
              "</div>"
            ],
            "text/plain": [
              "       loss  accuracy  val_loss  val_accuracy\n",
              "0  0.670256  0.589909  0.658245      0.602284\n",
              "1  0.648403  0.622438  0.657124      0.597513\n",
              "2  0.636690  0.634619  0.634725      0.631921\n",
              "3  0.624021  0.647739  0.621432      0.651728\n",
              "4  0.612273  0.657335  0.616486      0.655270"
            ]
          },
          "metadata": {
            "tags": []
          },
          "execution_count": 110
        }
      ]
    },
    {
      "cell_type": "code",
      "metadata": {
        "colab": {
          "base_uri": "https://localhost:8080/",
          "height": 269
        },
        "id": "vtT5EZmMB6Lr",
        "outputId": "fc1a2106-1e49-4c0f-e7fd-cd07a0f7a869"
      },
      "source": [
        "model_loss[['accuracy','val_accuracy']].plot(ylim=[0,1]);"
      ],
      "execution_count": 111,
      "outputs": [
        {
          "output_type": "display_data",
          "data": {
            "image/png": "[encoded data removed]",
            "text/plain": [
              "<Figure size 432x288 with 1 Axes>"
            ]
          },
          "metadata": {
            "tags": [],
            "needs_background": "light"
          }
        }
      ]
    },
    {
      "cell_type": "code",
      "metadata": {
        "colab": {
          "base_uri": "https://localhost:8080/"
        },
        "id": "_TvGrkT7EiNQ",
        "outputId": "f818c636-ed6e-4790-d63d-10340df24928"
      },
      "source": [
        "print((y_pred>0.5).astype(int))"
      ],
      "execution_count": 112,
      "outputs": [
        {
          "output_type": "stream",
          "text": [
            "[[1]\n",
            " [0]\n",
            " [0]\n",
            " ...\n",
            " [0]\n",
            " [0]\n",
            " [0]]\n"
          ],
          "name": "stdout"
        }
      ]
    },
    {
      "cell_type": "code",
      "metadata": {
        "colab": {
          "base_uri": "https://localhost:8080/"
        },
        "id": "42RAtazdCCwr",
        "outputId": "aa540e84-9383-4b7f-a1b0-0f81381d157b"
      },
      "source": [
        "from sklearn.metrics import classification_report,confusion_matrix,accuracy_score,matthews_corrcoef\r\n",
        "print(classification_report(y_test,(y_pred>0.5).astype(int)))"
      ],
      "execution_count": 113,
      "outputs": [
        {
          "output_type": "stream",
          "text": [
            "              precision    recall  f1-score   support\n",
            "\n",
            "           0       0.67      0.70      0.68      8945\n",
            "           1       0.66      0.62      0.64      8347\n",
            "\n",
            "    accuracy                           0.66     17292\n",
            "   macro avg       0.66      0.66      0.66     17292\n",
            "weighted avg       0.66      0.66      0.66     17292\n",
            "\n"
          ],
          "name": "stdout"
        }
      ]
    },
    {
      "cell_type": "code",
      "metadata": {
        "colab": {
          "base_uri": "https://localhost:8080/"
        },
        "id": "AfXEeg53E_AK",
        "outputId": "142ca514-015b-46b1-b383-0c0003260405"
      },
      "source": [
        "print(confusion_matrix(y_test,(y_pred>0.5).astype(int)))"
      ],
      "execution_count": 114,
      "outputs": [
        {
          "output_type": "stream",
          "text": [
            "[[6252 2693]\n",
            " [3148 5199]]\n"
          ],
          "name": "stdout"
        }
      ]
    },
    {
      "cell_type": "code",
      "metadata": {
        "colab": {
          "base_uri": "https://localhost:8080/"
        },
        "id": "c2T0EhtGFv2F",
        "outputId": "eaa67f14-4fc0-4ded-e2ec-cf5cdac154d1"
      },
      "source": [
        "print(accuracy_score(y_test,(y_pred>0.5).astype(int)))"
      ],
      "execution_count": 115,
      "outputs": [
        {
          "output_type": "stream",
          "text": [
            "0.6622137404580153\n"
          ],
          "name": "stdout"
        }
      ]
    },
    {
      "cell_type": "code",
      "metadata": {
        "colab": {
          "base_uri": "https://localhost:8080/"
        },
        "id": "ahDlKi-BGtks",
        "outputId": "f8c2b287-3f5f-4fbe-fb03-404fa2bceb8f"
      },
      "source": [
        "print(matthews_corrcoef(y_test,(y_pred>0.5).astype(int)))"
      ],
      "execution_count": 116,
      "outputs": [
        {
          "output_type": "stream",
          "text": [
            "0.3228339387028689\n"
          ],
          "name": "stdout"
        }
      ]
    },
    {
      "cell_type": "code",
      "metadata": {
        "id": "Jfn9InuOHl6Z"
      },
      "source": [
        "model.save('model.h5')"
      ],
      "execution_count": 117,
      "outputs": []
    },
    {
      "cell_type": "code",
      "metadata": {
        "colab": {
          "base_uri": "https://localhost:8080/",
          "height": 34
        },
        "id": "cHkNv1QjHpRd",
        "outputId": "4d5846bc-89fb-4e52-f1bf-24dcb2f74397"
      },
      "source": [
        "from google.colab import files\r\n",
        "files.download('model.h5')"
      ],
      "execution_count": 118,
      "outputs": [
        {
          "output_type": "display_data",
          "data": {
            "application/javascript": [
              "\n",
              "    async function download(id, filename, size) {\n",
              "      if (!google.colab.kernel.accessAllowed) {\n",
              "        return;\n",
              "      }\n",
              "      const div = document.createElement('div');\n",
              "      const label = document.createElement('label');\n",
              "      label.textContent = `Downloading \"${filename}\": `;\n",
              "      div.appendChild(label);\n",
              "      const progress = document.createElement('progress');\n",
              "      progress.max = size;\n",
              "      div.appendChild(progress);\n",
              "      document.body.appendChild(div);\n",
              "\n",
              "      const buffers = [];\n",
              "      let downloaded = 0;\n",
              "\n",
              "      const channel = await google.colab.kernel.comms.open(id);\n",
              "      // Send a message to notify the kernel that we're ready.\n",
              "      channel.send({})\n",
              "\n",
              "      for await (const message of channel.messages) {\n",
              "        // Send a message to notify the kernel that we're ready.\n",
              "        channel.send({})\n",
              "        if (message.buffers) {\n",
              "          for (const buffer of message.buffers) {\n",
              "            buffers.push(buffer);\n",
              "            downloaded += buffer.byteLength;\n",
              "            progress.value = downloaded;\n",
              "          }\n",
              "        }\n",
              "      }\n",
              "      const blob = new Blob(buffers, {type: 'application/binary'});\n",
              "      const a = document.createElement('a');\n",
              "      a.href = window.URL.createObjectURL(blob);\n",
              "      a.download = filename;\n",
              "      div.appendChild(a);\n",
              "      a.click();\n",
              "      div.remove();\n",
              "    }\n",
              "  "
            ],
            "text/plain": [
              "<IPython.core.display.Javascript object>"
            ]
          },
          "metadata": {
            "tags": []
          }
        },
        {
          "output_type": "display_data",
          "data": {
            "application/javascript": [
              "download(\"download_d03c4f49-875a-4047-8714-d37fefb1ab43\", \"model.h5\", 39685896)"
            ],
            "text/plain": [
              "<IPython.core.display.Javascript object>"
            ]
          },
          "metadata": {
            "tags": []
          }
        }
      ]
    }
  ]
}